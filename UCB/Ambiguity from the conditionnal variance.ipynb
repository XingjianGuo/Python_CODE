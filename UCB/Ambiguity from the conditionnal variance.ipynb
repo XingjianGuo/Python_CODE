{
 "cells": [
  {
   "cell_type": "markdown",
   "id": "d3520ce7-a825-4bcc-a170-84ff44dcc514",
   "metadata": {},
   "source": [
    "# 基于条件方差计算模糊度"
   ]
  },
  {
   "cell_type": "markdown",
   "id": "a785db15-c0b1-45cd-8965-2715529aa16c",
   "metadata": {},
   "source": [
    "### 计算$DOA$模糊度"
   ]
  },
  {
   "cell_type": "code",
   "execution_count": 1,
   "id": "629d81d3-9a55-4da6-9d9e-3505a25b9562",
   "metadata": {},
   "outputs": [],
   "source": [
    "import pandas as pd\n",
    "import numpy as np\n",
    "import statsmodels.api as sm\n",
    "import arch\n",
    "from tqdm import notebook\n",
    "\n",
    "dataset_name = 'total'\n",
    "# 创建一个迭代器，按照 chunksize 逐块读取数据\n",
    "panel = pd.read_csv(f'{dataset_name}_panel.csv', parse_dates=['trade_date'], index_col=['code','trade_date'])\n",
    "fama_df = pd.read_csv(f'fama_data.csv', parse_dates=['trade_date'], index_col=['MarkettypeID','trade_date'])\n",
    "rf_df = pd.read_csv(f'rf_data.csv', parse_dates=['trade_date'], index_col=['Nrr1','trade_date'])"
   ]
  },
  {
   "cell_type": "code",
   "execution_count": 2,
   "id": "9f6897b3-097d-4a30-b9e8-07f80c74f8f9",
   "metadata": {},
   "outputs": [],
   "source": [
    "# 计算超额收益率\n",
    "\n",
    "rf_df = rf_df.reset_index('Nrr1', drop=True)\n",
    "rf_df = rf_df[['rf_day']]\n",
    "panel = panel.join(rf_df, on='trade_date')\n",
    "panel['log_ret_Premium'] = panel['log_ret'] - panel['rf_day']"
   ]
  },
  {
   "cell_type": "code",
   "execution_count": 3,
   "id": "3282068c-2cfd-4f49-bd8f-760776981ded",
   "metadata": {},
   "outputs": [],
   "source": [
    "# fama五因子模型\n",
    "\n",
    "# P9714：沪深A股和创业板和科创板\n",
    "# Portfolios1：2*3投资组合划分方法\n",
    "# RiskPremium1：[市场风险溢价因子(流通市值加权)]\n",
    "# SMB1 [市值因子(流通市值加权)]\n",
    "# HML1 [帐面市值比因子(流通市值加权)]\n",
    "# RMW1 [盈利能力因子(流通市值加权)]\n",
    "# CMA1 [投资模式因子(流通市值加权)]\n",
    "fama_name = ['RiskPremium1', 'SMB1', 'HML1', 'RMW1', 'CMA1']\n",
    "fama_df = fama_df.loc[('P9714', slice(None)), :]\n",
    "fama_df = fama_df[fama_df.Portfolios==1]\n",
    "fama_df = fama_df.loc[(slice(None), slice(None)), fama_name]\n",
    "fama_df = fama_df.reset_index('MarkettypeID', drop=True)\n",
    "panel = panel.join(fama_df, on='trade_date')"
   ]
  },
  {
   "cell_type": "code",
   "execution_count": 4,
   "id": "3e7c995f-1d7d-44f9-9965-68ca70b47ace",
   "metadata": {},
   "outputs": [],
   "source": [
    "# fama五因子模型的参数名\n",
    "variable = ['log_ret_Premium']\n",
    "variable.extend(fama_name)\n",
    "panel = panel[variable]"
   ]
  },
  {
   "cell_type": "code",
   "execution_count": 5,
   "id": "ef812c44-605d-4cef-a06a-60b86956111a",
   "metadata": {},
   "outputs": [],
   "source": [
    "code_indexs = panel.index.get_level_values(level=0).unique()[::-1]"
   ]
  },
  {
   "cell_type": "code",
   "execution_count": null,
   "id": "05fff42c-bd44-4274-9696-b93bdca5deac",
   "metadata": {},
   "outputs": [],
   "source": [
    "import warnings\n",
    "from arch.univariate.base import DataScaleWarning\n",
    "# 忽略特定的警告\n",
    "warnings.filterwarnings(\"ignore\", category=DataScaleWarning)\n",
    "\n",
    "# 索引序列\n",
    "code_indexs = panel.index.get_level_values(level=0).unique()\n",
    "trade_date_num = len(panel.index.get_level_values(level=1).unique())\n",
    "trade_date_series = pd.Series(panel.index.get_level_values(level=1).unique(), \n",
    "                              index = panel.index.get_level_values(level=1).unique())\n",
    "\n",
    "IV_list = []\n",
    "DOA_list = []\n",
    "for code_index in notebook.tqdm(code_indexs):\n",
    "    DOA_dict = {}\n",
    "    IV_dict = {}\n",
    "    for num in range(trade_date_num-22):\n",
    "        start = trade_date_series.iloc[num]\n",
    "        end = trade_date_series.iloc[num+22]\n",
    "        df = panel.loc[(code_index, slice(start, end)), :]\n",
    "        Y = df.iloc[:, 0]*100\n",
    "        X = df.iloc[:, 1:]*100\n",
    "        X = sm.add_constant(X)\n",
    "        # 定义Fama-French模型\n",
    "        model_ff = sm.OLS(Y, X).fit()\n",
    "        ff_residuals = model_ff.resid\n",
    "        # 定义GARCH模型\n",
    "        model_garch = arch.arch_model(ff_residuals, vol='GARCH', p=1, q=1, dist='Normal', mean='Zero')\n",
    "        results = model_garch.fit(disp=None)\n",
    "        # 参数\n",
    "        # print(results.params)\n",
    "        omega, alpha, beta = results.params\n",
    "        if 1 - alpha - beta == 0:\n",
    "            IV = np.nan\n",
    "        else:\n",
    "            IV = omega/(1 - alpha - beta)/10000\n",
    "        # 获取条件方差\n",
    "        conditional_volatility = results.conditional_volatility\n",
    "        # 计算模糊度DOA\n",
    "        DOA = np.std(conditional_volatility)/100\n",
    "        #保存\n",
    "        IV_dict[(code_index, end)] = IV\n",
    "        DOA_dict[(code_index, end)] = DOA\n",
    "\n",
    "    # 保存数据\n",
    "    DOA_df = pd.DataFrame(pd.Series(DOA_dict), columns=['DOA'])\n",
    "    DOA_df = DOA_df.rename_axis(index=['code', 'trade_date'])\n",
    "    IV_df = pd.DataFrame(pd.Series(IV_dict), columns=['IV'])\n",
    "    IV_df = IV_df.rename_axis(index=['code', 'trade_date'])\n",
    "    # print(DOA_df)\n",
    "    DOA_df = DOA_df.join(IV_df)\n",
    "    DOA_df.to_csv(f'DOA/{code_index}.csv')"
   ]
  },
  {
   "cell_type": "code",
   "execution_count": 52,
   "id": "a4969524-fec9-41ad-9797-8e5429d2877a",
   "metadata": {},
   "outputs": [
    {
     "data": {
      "application/vnd.jupyter.widget-view+json": {
       "model_id": "36e3cc17929343a2b778288bebe5e525",
       "version_major": 2,
       "version_minor": 0
      },
      "text/plain": [
       "  0%|          | 0/2880 [00:00<?, ?it/s]"
      ]
     },
     "metadata": {},
     "output_type": "display_data"
    }
   ],
   "source": [
    "# 将Wx整合为面板\n",
    "import os\n",
    "path = 'DOA/'\n",
    "filesnames = os.listdir(path)\n",
    "filesnames = [f for f in filesnames if f.lower().endswith(\".csv\")]\n",
    "df_list = []\n",
    "for filename in notebook.tqdm(filesnames):\n",
    "    df_list.append(pd.read_csv(path + filename))\n",
    "\n",
    "df = pd.concat(df_list, axis=0)\n",
    "# 保存数据\n",
    "df.set_index(['code','trade_date'], inplace=True)\n",
    "df.sort_index(ascending=True, inplace=True)\n",
    "df.to_csv('DOA.csv')"
   ]
  },
  {
   "cell_type": "code",
   "execution_count": 60,
   "id": "c20da919-e902-4589-9785-5cc4de164125",
   "metadata": {},
   "outputs": [],
   "source": [
    "# 填充IV中的na\n",
    "\n",
    "# transform用于对数据进行转换操作。主要用途之一是在分组操作中，对每个组进行独立的转换。\n",
    "df.IV = df.IV.groupby('code').transform(lambda x: x.interpolate())\n",
    "df.to_csv('DOA.csv')"
   ]
  },
  {
   "cell_type": "markdown",
   "id": "008d691c-804c-44a1-87e2-c1c796e62d95",
   "metadata": {},
   "source": [
    "### 计算$DOA\\ W_x$"
   ]
  },
  {
   "cell_type": "code",
   "execution_count": 70,
   "id": "64fbeb03-df10-4223-880a-62ce32ea8023",
   "metadata": {},
   "outputs": [],
   "source": [
    "data = df[['DOA']].join(panel[X])"
   ]
  },
  {
   "cell_type": "code",
   "execution_count": 75,
   "id": "45cd6a6c-34dd-4b2d-a3be-4491c3e15ab1",
   "metadata": {},
   "outputs": [
    {
     "name": "stderr",
     "output_type": "stream",
     "text": [
      "C:\\Users\\boyaw\\.conda\\envs\\d2l2\\Lib\\site-packages\\pandas\\core\\window\\numba_.py:231: NumbaPerformanceWarning: \u001b[1m\u001b[1m\u001b[1m'@' is faster on contiguous arrays, called on (Array(float64, 2, 'C', False, aligned=True), Array(float64, 1, 'A', False, aligned=True))\u001b[0m\u001b[0m\u001b[0m\n",
      "  sub_result = numba_func(window, *args)\n"
     ]
    },
    {
     "name": "stdout",
     "output_type": "stream",
     "text": [
      "CPU times: total: 37.3 s\n",
      "Wall time: 44.7 s\n"
     ]
    }
   ],
   "source": [
    "%%time\n",
    "# 生成Wx\n",
    "import numba as nb\n",
    "# 定义岭回归函数\n",
    "@nb.jit(nopython=True)\n",
    "def Righe(df, lam=0.00000001):\n",
    "    \n",
    "    #函数切块\n",
    "    Y = df[:, 0]\n",
    "    X = df[:, 1:]\n",
    "    # 标准化\n",
    "    for i in range(X.shape[1]):\n",
    "        X_mean = np.mean(X[:, i])\n",
    "        X_var = np.var(X[:, i])\n",
    "        if X_var != 0:\n",
    "            X[:, i] = (X[:, i]-X_mean)/X_var\n",
    "        else:\n",
    "            X[:, i] = 0\n",
    "            \n",
    "    #增加常数列\n",
    "    X = np.column_stack((X, np.ones(X.shape[0])))\n",
    "    \n",
    "    # 岭回归\n",
    "    XTX = X.T @ X\n",
    "    beta = np.linalg.inv(XTX + lam * np.identity(XTX.shape[1])) @ X.T @ Y\n",
    "    uncertain = np.dot(X[-1, :], beta)\n",
    "    \n",
    "    return uncertain, beta[0], beta[1], beta[2], beta[3], beta[4]\n",
    "    \n",
    "# 自变量对DOA回归生成Wx\n",
    "DOA_WxX = df[['DOA']].join(panel[X]).groupby('code').rolling(66, method='table').apply(Righe, raw=True, engine='numba')\n",
    "DOA_WxX = DOA_WxX.reset_index(level=0, drop=True)\n",
    "DOA_WxX.rename(columns={'DOA':'DOA_WxX'}, inplace=True)\n",
    "DOA_WxX = DOA_WxX.drop(columns=X)"
   ]
  },
  {
   "cell_type": "code",
   "execution_count": 83,
   "id": "dc183df7-b4ff-43cb-896f-c619b60b4e77",
   "metadata": {},
   "outputs": [],
   "source": [
    "# 自变量对IV回归生成Wx\n",
    "IV_WxX = df[['IV']].join(panel[X]).groupby('code').rolling(66, method='table').apply(Righe, raw=True, engine='numba')\n",
    "IV_WxX = IV_WxX.reset_index(level=0, drop=True)\n",
    "IV_WxX.rename(columns={'IV':'IV_WxX'}, inplace=True)\n",
    "IV_WxX = IV_WxX.drop(columns=X)"
   ]
  },
  {
   "cell_type": "code",
   "execution_count": 101,
   "id": "6b8ffc3b-f3c7-4a10-8fa6-f9a4b5af4ce0",
   "metadata": {},
   "outputs": [],
   "source": [
    "WxX = DOA_WxX.join(IV_WxX)\n",
    "WxX.to_csv('WxX.csv')"
   ]
  }
 ],
 "metadata": {
  "kernelspec": {
   "display_name": "Python 3 (ipykernel)",
   "language": "python",
   "name": "python3"
  },
  "language_info": {
   "codemirror_mode": {
    "name": "ipython",
    "version": 3
   },
   "file_extension": ".py",
   "mimetype": "text/x-python",
   "name": "python",
   "nbconvert_exporter": "python",
   "pygments_lexer": "ipython3",
   "version": "3.11.5"
  },
  "toc": {
   "base_numbering": 1,
   "nav_menu": {},
   "number_sections": true,
   "sideBar": true,
   "skip_h1_title": false,
   "title_cell": "Table of Contents",
   "title_sidebar": "Contents",
   "toc_cell": false,
   "toc_position": {
    "height": "calc(100% - 180px)",
    "left": "10px",
    "top": "150px",
    "width": "304.475px"
   },
   "toc_section_display": true,
   "toc_window_display": true
  },
  "varInspector": {
   "cols": {
    "lenName": 16,
    "lenType": 16,
    "lenVar": 40
   },
   "kernels_config": {
    "python": {
     "delete_cmd_postfix": "",
     "delete_cmd_prefix": "del ",
     "library": "var_list.py",
     "varRefreshCmd": "print(var_dic_list())"
    },
    "r": {
     "delete_cmd_postfix": ") ",
     "delete_cmd_prefix": "rm(",
     "library": "var_list.r",
     "varRefreshCmd": "cat(var_dic_list()) "
    }
   },
   "oldHeight": 481.65,
   "position": {
    "height": "503.25px",
    "left": "1199.4px",
    "right": "20px",
    "top": "90px",
    "width": "299.2px"
   },
   "types_to_exclude": [
    "module",
    "function",
    "builtin_function_or_method",
    "instance",
    "_Feature"
   ],
   "varInspector_section_display": "block",
   "window_display": true
  },
  "widgets": {
   "application/vnd.jupyter.widget-state+json": {
    "state": {
     "008099806a2847979c9d65b7f986d691": {
      "model_module": "@jupyter-widgets/controls",
      "model_module_version": "2.0.0",
      "model_name": "HBoxModel",
      "state": {
       "children": [
        "IPY_MODEL_64a5c448d6734392a2eccba49f3b8759",
        "IPY_MODEL_de8aea6b183c4d8085efb2f53b8ef323",
        "IPY_MODEL_7ded865526554546bf159234cfa12526"
       ],
       "layout": "IPY_MODEL_fb1ae2990e834e6b8a81683b8407cfda"
      }
     },
     "01d8cebe578f4a269beb2bc4417e109c": {
      "model_module": "@jupyter-widgets/base",
      "model_module_version": "2.0.0",
      "model_name": "LayoutModel",
      "state": {}
     },
     "090ecf89e018422aaf661fc888435ed5": {
      "model_module": "@jupyter-widgets/controls",
      "model_module_version": "2.0.0",
      "model_name": "HTMLModel",
      "state": {
       "layout": "IPY_MODEL_8e7aeeb7f6694499a87487854e2cc02d",
       "style": "IPY_MODEL_2b692216762f4fe59d5c6e2097bd718b",
       "value": "100%"
      }
     },
     "091b0c5537b64fe5823d1ff80b3f24ec": {
      "model_module": "@jupyter-widgets/base",
      "model_module_version": "2.0.0",
      "model_name": "LayoutModel",
      "state": {}
     },
     "0a1ee38569a2477fa452b3b0b1e54b5b": {
      "model_module": "@jupyter-widgets/base",
      "model_module_version": "2.0.0",
      "model_name": "LayoutModel",
      "state": {}
     },
     "18b74f4819e949f8ae251b6179c86548": {
      "model_module": "@jupyter-widgets/controls",
      "model_module_version": "2.0.0",
      "model_name": "ProgressStyleModel",
      "state": {
       "description_width": ""
      }
     },
     "18bcc494a9a842c39a2586af5fc57d76": {
      "model_module": "@jupyter-widgets/controls",
      "model_module_version": "2.0.0",
      "model_name": "HBoxModel",
      "state": {
       "children": [
        "IPY_MODEL_b2f04b64c11941f2a948b7597e28dd21",
        "IPY_MODEL_d02a0529fe4449838302976d085e9279",
        "IPY_MODEL_bf50518b4a4d4f1085104d0a378e3ba4"
       ],
       "layout": "IPY_MODEL_808c5cc211434ddeb902dcec8be472fa"
      }
     },
     "1daac984d0174807b6093d392e331c54": {
      "model_module": "@jupyter-widgets/controls",
      "model_module_version": "2.0.0",
      "model_name": "FloatProgressModel",
      "state": {
       "bar_style": "success",
       "layout": "IPY_MODEL_6825221aacac40ab80345569aa834060",
       "max": 360,
       "style": "IPY_MODEL_f229c6be305d4721bd471a3f8c5ea384",
       "value": 360
      }
     },
     "20d63ad7babb41e5bb0b4fbd75087302": {
      "model_module": "@jupyter-widgets/controls",
      "model_module_version": "2.0.0",
      "model_name": "HTMLModel",
      "state": {
       "layout": "IPY_MODEL_9ae84d6d8b444413b487ff740c3749a1",
       "style": "IPY_MODEL_a0b9e45a187b4c798ad42d0102e5d1f2",
       "value": "100%"
      }
     },
     "2121d2aaffae4820ba6e867b4cc0c0ae": {
      "model_module": "@jupyter-widgets/controls",
      "model_module_version": "2.0.0",
      "model_name": "ProgressStyleModel",
      "state": {
       "description_width": ""
      }
     },
     "22f2f7b12dc146819561845ff98842f0": {
      "model_module": "@jupyter-widgets/controls",
      "model_module_version": "2.0.0",
      "model_name": "HTMLStyleModel",
      "state": {
       "description_width": "",
       "font_size": null,
       "text_color": null
      }
     },
     "23129e3d5c5a4f2ba4558d8db6474af1": {
      "model_module": "@jupyter-widgets/base",
      "model_module_version": "2.0.0",
      "model_name": "LayoutModel",
      "state": {}
     },
     "2421392a87da4f70b33ac4e2e729bc7b": {
      "model_module": "@jupyter-widgets/controls",
      "model_module_version": "2.0.0",
      "model_name": "HBoxModel",
      "state": {
       "children": [
        "IPY_MODEL_20d63ad7babb41e5bb0b4fbd75087302",
        "IPY_MODEL_45dca9b945f44de0bafd33dd8e3fc05a",
        "IPY_MODEL_645e5faf6bed42fc8e0e2b0cff7fa60c"
       ],
       "layout": "IPY_MODEL_0a1ee38569a2477fa452b3b0b1e54b5b"
      }
     },
     "24e505b74cb247dcbe9f0869edc586cc": {
      "model_module": "@jupyter-widgets/base",
      "model_module_version": "2.0.0",
      "model_name": "LayoutModel",
      "state": {}
     },
     "2ade6753a77f4c7ea272728676b4923e": {
      "model_module": "@jupyter-widgets/controls",
      "model_module_version": "2.0.0",
      "model_name": "ProgressStyleModel",
      "state": {
       "description_width": ""
      }
     },
     "2b692216762f4fe59d5c6e2097bd718b": {
      "model_module": "@jupyter-widgets/controls",
      "model_module_version": "2.0.0",
      "model_name": "HTMLStyleModel",
      "state": {
       "description_width": "",
       "font_size": null,
       "text_color": null
      }
     },
     "38b0c46d0a604adc8cacb199138c95b0": {
      "model_module": "@jupyter-widgets/base",
      "model_module_version": "2.0.0",
      "model_name": "LayoutModel",
      "state": {}
     },
     "3ee35e1b09994541b2dedcf11baac31d": {
      "model_module": "@jupyter-widgets/base",
      "model_module_version": "2.0.0",
      "model_name": "LayoutModel",
      "state": {}
     },
     "40a136b5fb2f43d6a540d13b62e867d7": {
      "model_module": "@jupyter-widgets/controls",
      "model_module_version": "2.0.0",
      "model_name": "HTMLModel",
      "state": {
       "layout": "IPY_MODEL_38b0c46d0a604adc8cacb199138c95b0",
       "style": "IPY_MODEL_7fb04d07b52a471ca0dcf386a92db15d",
       "value": " 360/360 [00:12&lt;00:00, 27.71it/s]"
      }
     },
     "40f06891b6e440348d2849b65b4ecfcf": {
      "model_module": "@jupyter-widgets/base",
      "model_module_version": "2.0.0",
      "model_name": "LayoutModel",
      "state": {}
     },
     "43613855e311431b9c9c560128f98a89": {
      "model_module": "@jupyter-widgets/controls",
      "model_module_version": "2.0.0",
      "model_name": "HTMLModel",
      "state": {
       "layout": "IPY_MODEL_a567ef5622864e1aa66ec22578748fe2",
       "style": "IPY_MODEL_f05d383f1c09467e99aea9660b648451",
       "value": "100%"
      }
     },
     "44b963af77164a41837b9b4ec83418a6": {
      "model_module": "@jupyter-widgets/base",
      "model_module_version": "2.0.0",
      "model_name": "LayoutModel",
      "state": {}
     },
     "44d85f49a3d1418e829fcba42bce7dfb": {
      "model_module": "@jupyter-widgets/controls",
      "model_module_version": "2.0.0",
      "model_name": "FloatProgressModel",
      "state": {
       "bar_style": "success",
       "layout": "IPY_MODEL_605cad8957d44d5ab5d5f35e15749f7b",
       "max": 360,
       "style": "IPY_MODEL_2121d2aaffae4820ba6e867b4cc0c0ae",
       "value": 360
      }
     },
     "45dca9b945f44de0bafd33dd8e3fc05a": {
      "model_module": "@jupyter-widgets/controls",
      "model_module_version": "2.0.0",
      "model_name": "FloatProgressModel",
      "state": {
       "bar_style": "success",
       "layout": "IPY_MODEL_01d8cebe578f4a269beb2bc4417e109c",
       "max": 360,
       "style": "IPY_MODEL_916feca902ac4477bc6d9cb014d0c5fd",
       "value": 360
      }
     },
     "4e0d56a95c924dcd9253c85c58a0b929": {
      "model_module": "@jupyter-widgets/controls",
      "model_module_version": "2.0.0",
      "model_name": "HTMLModel",
      "state": {
       "layout": "IPY_MODEL_eadeda3532824c789b64723377b6abd6",
       "style": "IPY_MODEL_5828c6a863184da09c7976b65127da11",
       "value": " 360/360 [00:12&lt;00:00, 28.51it/s]"
      }
     },
     "4e490e4ea4a84059afa5e34e641f3ba2": {
      "model_module": "@jupyter-widgets/base",
      "model_module_version": "2.0.0",
      "model_name": "LayoutModel",
      "state": {}
     },
     "515ee08bd9654e2896298a85c80acdf1": {
      "model_module": "@jupyter-widgets/controls",
      "model_module_version": "2.0.0",
      "model_name": "ProgressStyleModel",
      "state": {
       "description_width": ""
      }
     },
     "580d7c05a107417e8a1a9beea899b894": {
      "model_module": "@jupyter-widgets/base",
      "model_module_version": "2.0.0",
      "model_name": "LayoutModel",
      "state": {}
     },
     "5828c6a863184da09c7976b65127da11": {
      "model_module": "@jupyter-widgets/controls",
      "model_module_version": "2.0.0",
      "model_name": "HTMLStyleModel",
      "state": {
       "description_width": "",
       "font_size": null,
       "text_color": null
      }
     },
     "5cd144f1a6d74fffb7ac82b232ca1f10": {
      "model_module": "@jupyter-widgets/controls",
      "model_module_version": "2.0.0",
      "model_name": "HTMLModel",
      "state": {
       "layout": "IPY_MODEL_ebf8a4192b9a4c7187c6482b8f2af13a",
       "style": "IPY_MODEL_f19f1d8e744b4f0d904e26a0731d5b09",
       "value": "100%"
      }
     },
     "5f0d6b30f47d4c9cab8c6cb9000928ab": {
      "model_module": "@jupyter-widgets/controls",
      "model_module_version": "2.0.0",
      "model_name": "HTMLStyleModel",
      "state": {
       "description_width": "",
       "font_size": null,
       "text_color": null
      }
     },
     "605cad8957d44d5ab5d5f35e15749f7b": {
      "model_module": "@jupyter-widgets/base",
      "model_module_version": "2.0.0",
      "model_name": "LayoutModel",
      "state": {}
     },
     "645e5faf6bed42fc8e0e2b0cff7fa60c": {
      "model_module": "@jupyter-widgets/controls",
      "model_module_version": "2.0.0",
      "model_name": "HTMLModel",
      "state": {
       "layout": "IPY_MODEL_e2d43b1052684f58bdfe4f7d38b45243",
       "style": "IPY_MODEL_fbab9345017f42fb8d01c7c695f1e465",
       "value": " 360/360 [00:11&lt;00:00, 28.58it/s]"
      }
     },
     "64a5c448d6734392a2eccba49f3b8759": {
      "model_module": "@jupyter-widgets/controls",
      "model_module_version": "2.0.0",
      "model_name": "HTMLModel",
      "state": {
       "layout": "IPY_MODEL_a7977de0869c48399ccedc90cb966d28",
       "style": "IPY_MODEL_22f2f7b12dc146819561845ff98842f0",
       "value": "100%"
      }
     },
     "6825221aacac40ab80345569aa834060": {
      "model_module": "@jupyter-widgets/base",
      "model_module_version": "2.0.0",
      "model_name": "LayoutModel",
      "state": {}
     },
     "71a46eba72f24d27a4a04aa6524c80a5": {
      "model_module": "@jupyter-widgets/controls",
      "model_module_version": "2.0.0",
      "model_name": "HTMLStyleModel",
      "state": {
       "description_width": "",
       "font_size": null,
       "text_color": null
      }
     },
     "72a919cdf34a4c98a837cb752ea7c923": {
      "model_module": "@jupyter-widgets/controls",
      "model_module_version": "2.0.0",
      "model_name": "HTMLModel",
      "state": {
       "layout": "IPY_MODEL_44b963af77164a41837b9b4ec83418a6",
       "style": "IPY_MODEL_897acad937fd41268e3142c39276b5ac",
       "value": " 360/360 [00:12&lt;00:00, 34.75it/s]"
      }
     },
     "72d4810c13514551a57bb2c3d14ebccc": {
      "model_module": "@jupyter-widgets/controls",
      "model_module_version": "2.0.0",
      "model_name": "HTMLModel",
      "state": {
       "layout": "IPY_MODEL_f2d97a77566d490eb561dcd681dc9c86",
       "style": "IPY_MODEL_5f0d6b30f47d4c9cab8c6cb9000928ab",
       "value": " 360/360 [00:11&lt;00:00, 36.06it/s]"
      }
     },
     "74f9c84f7978476a81f6202bca864cb1": {
      "model_module": "@jupyter-widgets/base",
      "model_module_version": "2.0.0",
      "model_name": "LayoutModel",
      "state": {}
     },
     "7580aa358e9e4d5abd65fab6f6a83e45": {
      "model_module": "@jupyter-widgets/controls",
      "model_module_version": "2.0.0",
      "model_name": "FloatProgressModel",
      "state": {
       "bar_style": "success",
       "layout": "IPY_MODEL_3ee35e1b09994541b2dedcf11baac31d",
       "max": 360,
       "style": "IPY_MODEL_e8f4c79ea84541919679bcc3dae4ed77",
       "value": 360
      }
     },
     "75c523bd1a6144e5b1d66d6398ff07d5": {
      "model_module": "@jupyter-widgets/controls",
      "model_module_version": "2.0.0",
      "model_name": "FloatProgressModel",
      "state": {
       "bar_style": "success",
       "layout": "IPY_MODEL_580d7c05a107417e8a1a9beea899b894",
       "max": 360,
       "style": "IPY_MODEL_515ee08bd9654e2896298a85c80acdf1",
       "value": 360
      }
     },
     "79849ae14c7b4184a4ef010d16b96473": {
      "model_module": "@jupyter-widgets/controls",
      "model_module_version": "2.0.0",
      "model_name": "HBoxModel",
      "state": {
       "children": [
        "IPY_MODEL_88853d8ac2964ea9bc2d2da3dc4466a4",
        "IPY_MODEL_dcc983758e0640b4858eac28fabee345",
        "IPY_MODEL_be279a09ed354f6f8d05f1b02ef74168"
       ],
       "layout": "IPY_MODEL_d53203b2775a411582b418259adc964b"
      }
     },
     "7c18f1c3a5bb465eb07e9e733d584910": {
      "model_module": "@jupyter-widgets/base",
      "model_module_version": "2.0.0",
      "model_name": "LayoutModel",
      "state": {}
     },
     "7ded865526554546bf159234cfa12526": {
      "model_module": "@jupyter-widgets/controls",
      "model_module_version": "2.0.0",
      "model_name": "HTMLModel",
      "state": {
       "layout": "IPY_MODEL_e5ef0dc24c0c4f76866f9425c75c20eb",
       "style": "IPY_MODEL_71a46eba72f24d27a4a04aa6524c80a5",
       "value": " 360/360 [00:12&lt;00:00, 26.57it/s]"
      }
     },
     "7f12488898744a1a835402479550c324": {
      "model_module": "@jupyter-widgets/controls",
      "model_module_version": "2.0.0",
      "model_name": "HBoxModel",
      "state": {
       "children": [
        "IPY_MODEL_96bad86fe30846d7ae11260086fb4bbd",
        "IPY_MODEL_1daac984d0174807b6093d392e331c54",
        "IPY_MODEL_72d4810c13514551a57bb2c3d14ebccc"
       ],
       "layout": "IPY_MODEL_fed22d3bab30471799a6fe973facc103"
      }
     },
     "7fb04d07b52a471ca0dcf386a92db15d": {
      "model_module": "@jupyter-widgets/controls",
      "model_module_version": "2.0.0",
      "model_name": "HTMLStyleModel",
      "state": {
       "description_width": "",
       "font_size": null,
       "text_color": null
      }
     },
     "805f9f9e2f904ea88c7deccd00b8b9ed": {
      "model_module": "@jupyter-widgets/controls",
      "model_module_version": "2.0.0",
      "model_name": "HBoxModel",
      "state": {
       "children": [
        "IPY_MODEL_43613855e311431b9c9c560128f98a89",
        "IPY_MODEL_7580aa358e9e4d5abd65fab6f6a83e45",
        "IPY_MODEL_4e0d56a95c924dcd9253c85c58a0b929"
       ],
       "layout": "IPY_MODEL_4e490e4ea4a84059afa5e34e641f3ba2"
      }
     },
     "808c5cc211434ddeb902dcec8be472fa": {
      "model_module": "@jupyter-widgets/base",
      "model_module_version": "2.0.0",
      "model_name": "LayoutModel",
      "state": {}
     },
     "86a59401eaf640ad99ea9bbfa7e84d6d": {
      "model_module": "@jupyter-widgets/controls",
      "model_module_version": "2.0.0",
      "model_name": "ProgressStyleModel",
      "state": {
       "description_width": ""
      }
     },
     "8735572bdbdd4e66996b2e4f03145cb0": {
      "model_module": "@jupyter-widgets/base",
      "model_module_version": "2.0.0",
      "model_name": "LayoutModel",
      "state": {}
     },
     "88853d8ac2964ea9bc2d2da3dc4466a4": {
      "model_module": "@jupyter-widgets/controls",
      "model_module_version": "2.0.0",
      "model_name": "HTMLModel",
      "state": {
       "layout": "IPY_MODEL_7c18f1c3a5bb465eb07e9e733d584910",
       "style": "IPY_MODEL_d08735b406da4dffbee593ec61016e2c",
       "value": "100%"
      }
     },
     "897acad937fd41268e3142c39276b5ac": {
      "model_module": "@jupyter-widgets/controls",
      "model_module_version": "2.0.0",
      "model_name": "HTMLStyleModel",
      "state": {
       "description_width": "",
       "font_size": null,
       "text_color": null
      }
     },
     "8e7aeeb7f6694499a87487854e2cc02d": {
      "model_module": "@jupyter-widgets/base",
      "model_module_version": "2.0.0",
      "model_name": "LayoutModel",
      "state": {}
     },
     "916feca902ac4477bc6d9cb014d0c5fd": {
      "model_module": "@jupyter-widgets/controls",
      "model_module_version": "2.0.0",
      "model_name": "ProgressStyleModel",
      "state": {
       "description_width": ""
      }
     },
     "96b514e2533449e9b8a76bff87e6c7b6": {
      "model_module": "@jupyter-widgets/controls",
      "model_module_version": "2.0.0",
      "model_name": "HTMLStyleModel",
      "state": {
       "description_width": "",
       "font_size": null,
       "text_color": null
      }
     },
     "96bad86fe30846d7ae11260086fb4bbd": {
      "model_module": "@jupyter-widgets/controls",
      "model_module_version": "2.0.0",
      "model_name": "HTMLModel",
      "state": {
       "layout": "IPY_MODEL_f9b2aa3dc2e74458b29e623baf676c3c",
       "style": "IPY_MODEL_96b514e2533449e9b8a76bff87e6c7b6",
       "value": "100%"
      }
     },
     "989e55ce1eca4155802b15b09e0e6a6c": {
      "model_module": "@jupyter-widgets/base",
      "model_module_version": "2.0.0",
      "model_name": "LayoutModel",
      "state": {}
     },
     "9ae84d6d8b444413b487ff740c3749a1": {
      "model_module": "@jupyter-widgets/base",
      "model_module_version": "2.0.0",
      "model_name": "LayoutModel",
      "state": {}
     },
     "a0b9e45a187b4c798ad42d0102e5d1f2": {
      "model_module": "@jupyter-widgets/controls",
      "model_module_version": "2.0.0",
      "model_name": "HTMLStyleModel",
      "state": {
       "description_width": "",
       "font_size": null,
       "text_color": null
      }
     },
     "a567ef5622864e1aa66ec22578748fe2": {
      "model_module": "@jupyter-widgets/base",
      "model_module_version": "2.0.0",
      "model_name": "LayoutModel",
      "state": {}
     },
     "a7977de0869c48399ccedc90cb966d28": {
      "model_module": "@jupyter-widgets/base",
      "model_module_version": "2.0.0",
      "model_name": "LayoutModel",
      "state": {}
     },
     "a7d058ee8f8a4d61b6178d02b11aefaf": {
      "model_module": "@jupyter-widgets/controls",
      "model_module_version": "2.0.0",
      "model_name": "HTMLModel",
      "state": {
       "layout": "IPY_MODEL_d0d75028b6164e62a84d134270d3bb58",
       "style": "IPY_MODEL_e10d3a0fcd75487ba15f0aea2db594e5",
       "value": " 360/360 [00:11&lt;00:00, 31.70it/s]"
      }
     },
     "b2f04b64c11941f2a948b7597e28dd21": {
      "model_module": "@jupyter-widgets/controls",
      "model_module_version": "2.0.0",
      "model_name": "HTMLModel",
      "state": {
       "layout": "IPY_MODEL_74f9c84f7978476a81f6202bca864cb1",
       "style": "IPY_MODEL_c017831114fa4edbb6ee927227bf918f",
       "value": "100%"
      }
     },
     "b83e11e856df4951994844a71a6e8c45": {
      "model_module": "@jupyter-widgets/controls",
      "model_module_version": "2.0.0",
      "model_name": "HTMLStyleModel",
      "state": {
       "description_width": "",
       "font_size": null,
       "text_color": null
      }
     },
     "b8aac13b59a7456e940419e1df43ba2a": {
      "model_module": "@jupyter-widgets/base",
      "model_module_version": "2.0.0",
      "model_name": "LayoutModel",
      "state": {}
     },
     "bdab25703f3f43b29153f3d3a08e1f23": {
      "model_module": "@jupyter-widgets/controls",
      "model_module_version": "2.0.0",
      "model_name": "HTMLModel",
      "state": {
       "layout": "IPY_MODEL_091b0c5537b64fe5823d1ff80b3f24ec",
       "style": "IPY_MODEL_bde41fffe7ff448ba5d8c665d7d06c37",
       "value": "100%"
      }
     },
     "bde41fffe7ff448ba5d8c665d7d06c37": {
      "model_module": "@jupyter-widgets/controls",
      "model_module_version": "2.0.0",
      "model_name": "HTMLStyleModel",
      "state": {
       "description_width": "",
       "font_size": null,
       "text_color": null
      }
     },
     "be279a09ed354f6f8d05f1b02ef74168": {
      "model_module": "@jupyter-widgets/controls",
      "model_module_version": "2.0.0",
      "model_name": "HTMLModel",
      "state": {
       "layout": "IPY_MODEL_8735572bdbdd4e66996b2e4f03145cb0",
       "style": "IPY_MODEL_b83e11e856df4951994844a71a6e8c45",
       "value": " 360/360 [00:11&lt;00:00, 34.35it/s]"
      }
     },
     "bf50518b4a4d4f1085104d0a378e3ba4": {
      "model_module": "@jupyter-widgets/controls",
      "model_module_version": "2.0.0",
      "model_name": "HTMLModel",
      "state": {
       "layout": "IPY_MODEL_989e55ce1eca4155802b15b09e0e6a6c",
       "style": "IPY_MODEL_d0030c7149d94bca841496af58eca2ef",
       "value": " 360/360 [00:11&lt;00:00, 30.61it/s]"
      }
     },
     "c017831114fa4edbb6ee927227bf918f": {
      "model_module": "@jupyter-widgets/controls",
      "model_module_version": "2.0.0",
      "model_name": "HTMLStyleModel",
      "state": {
       "description_width": "",
       "font_size": null,
       "text_color": null
      }
     },
     "c2a48a5e6dae41278af80515be05fa68": {
      "model_module": "@jupyter-widgets/controls",
      "model_module_version": "2.0.0",
      "model_name": "HBoxModel",
      "state": {
       "children": [
        "IPY_MODEL_5cd144f1a6d74fffb7ac82b232ca1f10",
        "IPY_MODEL_44d85f49a3d1418e829fcba42bce7dfb",
        "IPY_MODEL_40a136b5fb2f43d6a540d13b62e867d7"
       ],
       "layout": "IPY_MODEL_df231fededd6434faffafa8c8ddfb477"
      }
     },
     "cce31e0a617f4b83bc8c93bd8ad91208": {
      "model_module": "@jupyter-widgets/controls",
      "model_module_version": "2.0.0",
      "model_name": "ProgressStyleModel",
      "state": {
       "description_width": ""
      }
     },
     "d0030c7149d94bca841496af58eca2ef": {
      "model_module": "@jupyter-widgets/controls",
      "model_module_version": "2.0.0",
      "model_name": "HTMLStyleModel",
      "state": {
       "description_width": "",
       "font_size": null,
       "text_color": null
      }
     },
     "d02a0529fe4449838302976d085e9279": {
      "model_module": "@jupyter-widgets/controls",
      "model_module_version": "2.0.0",
      "model_name": "FloatProgressModel",
      "state": {
       "bar_style": "success",
       "layout": "IPY_MODEL_24e505b74cb247dcbe9f0869edc586cc",
       "max": 360,
       "style": "IPY_MODEL_18b74f4819e949f8ae251b6179c86548",
       "value": 360
      }
     },
     "d08735b406da4dffbee593ec61016e2c": {
      "model_module": "@jupyter-widgets/controls",
      "model_module_version": "2.0.0",
      "model_name": "HTMLStyleModel",
      "state": {
       "description_width": "",
       "font_size": null,
       "text_color": null
      }
     },
     "d0d75028b6164e62a84d134270d3bb58": {
      "model_module": "@jupyter-widgets/base",
      "model_module_version": "2.0.0",
      "model_name": "LayoutModel",
      "state": {}
     },
     "d53203b2775a411582b418259adc964b": {
      "model_module": "@jupyter-widgets/base",
      "model_module_version": "2.0.0",
      "model_name": "LayoutModel",
      "state": {}
     },
     "d65742b9ec034950b8f77ddd2df1add4": {
      "model_module": "@jupyter-widgets/base",
      "model_module_version": "2.0.0",
      "model_name": "LayoutModel",
      "state": {}
     },
     "dcc983758e0640b4858eac28fabee345": {
      "model_module": "@jupyter-widgets/controls",
      "model_module_version": "2.0.0",
      "model_name": "FloatProgressModel",
      "state": {
       "bar_style": "success",
       "layout": "IPY_MODEL_23129e3d5c5a4f2ba4558d8db6474af1",
       "max": 360,
       "style": "IPY_MODEL_86a59401eaf640ad99ea9bbfa7e84d6d",
       "value": 360
      }
     },
     "de8aea6b183c4d8085efb2f53b8ef323": {
      "model_module": "@jupyter-widgets/controls",
      "model_module_version": "2.0.0",
      "model_name": "FloatProgressModel",
      "state": {
       "bar_style": "success",
       "layout": "IPY_MODEL_ef039774074f4204ace54842422d40d8",
       "max": 360,
       "style": "IPY_MODEL_cce31e0a617f4b83bc8c93bd8ad91208",
       "value": 360
      }
     },
     "df231fededd6434faffafa8c8ddfb477": {
      "model_module": "@jupyter-widgets/base",
      "model_module_version": "2.0.0",
      "model_name": "LayoutModel",
      "state": {}
     },
     "e10d3a0fcd75487ba15f0aea2db594e5": {
      "model_module": "@jupyter-widgets/controls",
      "model_module_version": "2.0.0",
      "model_name": "HTMLStyleModel",
      "state": {
       "description_width": "",
       "font_size": null,
       "text_color": null
      }
     },
     "e2d43b1052684f58bdfe4f7d38b45243": {
      "model_module": "@jupyter-widgets/base",
      "model_module_version": "2.0.0",
      "model_name": "LayoutModel",
      "state": {}
     },
     "e43ebdb5e2b74fe0946768b81a8739a8": {
      "model_module": "@jupyter-widgets/controls",
      "model_module_version": "2.0.0",
      "model_name": "FloatProgressModel",
      "state": {
       "bar_style": "success",
       "layout": "IPY_MODEL_40f06891b6e440348d2849b65b4ecfcf",
       "max": 360,
       "style": "IPY_MODEL_2ade6753a77f4c7ea272728676b4923e",
       "value": 360
      }
     },
     "e514d5f53f5f4393aa3bcc62e227f01f": {
      "model_module": "@jupyter-widgets/controls",
      "model_module_version": "2.0.0",
      "model_name": "HBoxModel",
      "state": {
       "children": [
        "IPY_MODEL_090ecf89e018422aaf661fc888435ed5",
        "IPY_MODEL_e43ebdb5e2b74fe0946768b81a8739a8",
        "IPY_MODEL_72a919cdf34a4c98a837cb752ea7c923"
       ],
       "layout": "IPY_MODEL_d65742b9ec034950b8f77ddd2df1add4"
      }
     },
     "e5ef0dc24c0c4f76866f9425c75c20eb": {
      "model_module": "@jupyter-widgets/base",
      "model_module_version": "2.0.0",
      "model_name": "LayoutModel",
      "state": {}
     },
     "e8f4c79ea84541919679bcc3dae4ed77": {
      "model_module": "@jupyter-widgets/controls",
      "model_module_version": "2.0.0",
      "model_name": "ProgressStyleModel",
      "state": {
       "description_width": ""
      }
     },
     "eadeda3532824c789b64723377b6abd6": {
      "model_module": "@jupyter-widgets/base",
      "model_module_version": "2.0.0",
      "model_name": "LayoutModel",
      "state": {}
     },
     "ebf8a4192b9a4c7187c6482b8f2af13a": {
      "model_module": "@jupyter-widgets/base",
      "model_module_version": "2.0.0",
      "model_name": "LayoutModel",
      "state": {}
     },
     "ef039774074f4204ace54842422d40d8": {
      "model_module": "@jupyter-widgets/base",
      "model_module_version": "2.0.0",
      "model_name": "LayoutModel",
      "state": {}
     },
     "f05d383f1c09467e99aea9660b648451": {
      "model_module": "@jupyter-widgets/controls",
      "model_module_version": "2.0.0",
      "model_name": "HTMLStyleModel",
      "state": {
       "description_width": "",
       "font_size": null,
       "text_color": null
      }
     },
     "f19f1d8e744b4f0d904e26a0731d5b09": {
      "model_module": "@jupyter-widgets/controls",
      "model_module_version": "2.0.0",
      "model_name": "HTMLStyleModel",
      "state": {
       "description_width": "",
       "font_size": null,
       "text_color": null
      }
     },
     "f229c6be305d4721bd471a3f8c5ea384": {
      "model_module": "@jupyter-widgets/controls",
      "model_module_version": "2.0.0",
      "model_name": "ProgressStyleModel",
      "state": {
       "description_width": ""
      }
     },
     "f2d97a77566d490eb561dcd681dc9c86": {
      "model_module": "@jupyter-widgets/base",
      "model_module_version": "2.0.0",
      "model_name": "LayoutModel",
      "state": {}
     },
     "f5bdf7ed42db4e22b9a183d207465b51": {
      "model_module": "@jupyter-widgets/controls",
      "model_module_version": "2.0.0",
      "model_name": "HBoxModel",
      "state": {
       "children": [
        "IPY_MODEL_bdab25703f3f43b29153f3d3a08e1f23",
        "IPY_MODEL_75c523bd1a6144e5b1d66d6398ff07d5",
        "IPY_MODEL_a7d058ee8f8a4d61b6178d02b11aefaf"
       ],
       "layout": "IPY_MODEL_b8aac13b59a7456e940419e1df43ba2a"
      }
     },
     "f9b2aa3dc2e74458b29e623baf676c3c": {
      "model_module": "@jupyter-widgets/base",
      "model_module_version": "2.0.0",
      "model_name": "LayoutModel",
      "state": {}
     },
     "fb1ae2990e834e6b8a81683b8407cfda": {
      "model_module": "@jupyter-widgets/base",
      "model_module_version": "2.0.0",
      "model_name": "LayoutModel",
      "state": {}
     },
     "fbab9345017f42fb8d01c7c695f1e465": {
      "model_module": "@jupyter-widgets/controls",
      "model_module_version": "2.0.0",
      "model_name": "HTMLStyleModel",
      "state": {
       "description_width": "",
       "font_size": null,
       "text_color": null
      }
     },
     "fed22d3bab30471799a6fe973facc103": {
      "model_module": "@jupyter-widgets/base",
      "model_module_version": "2.0.0",
      "model_name": "LayoutModel",
      "state": {}
     }
    },
    "version_major": 2,
    "version_minor": 0
   }
  }
 },
 "nbformat": 4,
 "nbformat_minor": 5
}
