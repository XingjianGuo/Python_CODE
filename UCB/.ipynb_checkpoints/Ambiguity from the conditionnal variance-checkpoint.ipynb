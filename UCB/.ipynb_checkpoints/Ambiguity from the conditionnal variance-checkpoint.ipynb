{
 "cells": [
  {
   "cell_type": "markdown",
   "id": "8aaae9ab-3160-4d4b-826a-959a35c06e4a",
   "metadata": {},
   "source": [
    "# calculate ambiguity by conditional variance"
   ]
  },
  {
   "cell_type": "code",
   "execution_count": 1,
   "id": "7015be46-e2e8-4134-b204-982e22664cd4",
   "metadata": {},
   "outputs": [],
   "source": [
    "import pandas as pd\n",
    "import numpy as np\n",
    "\n",
    "panel = pd.read_csv('total_panel.csv', parse_dates=['trade_date'], index_col=['code','trade_date'])\n",
    "\n",
    "AMB_df = pd.read_csv('AMB_22day.csv', parse_dates=['trade_date'], index_col=['trade_date'])\n",
    "AMB_df = AMB_df.stack().reset_index(level=1).rename(columns={'level_1':'code', 0:'AMB'}).set_index('code', append=True)\n",
    "AMB_df = AMB_df.swaplevel().sort_index()\n",
    "\n",
    "RV_df = pd.read_csv('RV_1day.csv', parse_dates=['trade_date'], index_col=['trade_date'])\n",
    "RV_df = RV_df.stack().reset_index(level=1).rename(columns={'level_1':'code', 0:'RV'}).set_index('code', append=True)\n",
    "RV_df = RV_df.swaplevel().sort_index()"
   ]
  },
  {
   "cell_type": "code",
   "execution_count": 2,
   "id": "fb2aea40-9d6d-48ab-80dd-8dbe9d1ed740",
   "metadata": {},
   "outputs": [],
   "source": [
    "panel = panel.join(AMB_df)\n",
    "panel = panel.join(RV_df)"
   ]
  },
  {
   "cell_type": "code",
   "execution_count": 3,
   "id": "8f781a99-ffc0-4ac6-be90-0789190742d4",
   "metadata": {},
   "outputs": [],
   "source": [
    "panel[['AMB', 'RV']] = panel[['AMB', 'RV']].groupby('code').apply(lambda x: x.interpolate(method='linear', \\\n",
    "                                                                limit_direction='both')).reset_index(level=0, drop=True)\n",
    "panel = panel[~panel.index.get_level_values(level=0).str.startswith(('200','201','900'))] # 去掉B股\n",
    "\n",
    "# 替换超过一定量的替换要用loc，这个限度时大于等于3个\n",
    "panel.loc[(slice(None), slice(None)), ['var', 'skew', 'kurt']] = panel[['var', 'skew', 'kurt']].groupby('code').\\\n",
    "                                                                apply(lambda x: x.interpolate(method='linear', \\\n",
    "                                                                limit_direction='both')).reset_index(level=0, drop=True)"
   ]
  },
  {
   "cell_type": "code",
   "execution_count": 4,
   "id": "f3c53f21-4cef-4a96-87e2-3a12c050bb37",
   "metadata": {},
   "outputs": [],
   "source": [
    "fama_df = pd.read_csv(f'fama_data.csv', parse_dates=['trade_date'], index_col=['MarkettypeID','trade_date'])\n",
    "# fama五因子模型\n",
    "\n",
    "# P9714：沪深A股和创业板和科创板\n",
    "# Portfolios1：2*3投资组合划分方法\n",
    "# RiskPremium1：[市场风险溢价因子(流通市值加权)]\n",
    "# SMB1 [市值因子(流通市值加权)]\n",
    "# HML1 [帐面市值比因子(流通市值加权)]\n",
    "# RMW1 [盈利能力因子(流通市值加权)]\n",
    "# CMA1 [投资模式因子(流通市值加权)]\n",
    "fama_name = ['RiskPremium1', 'SMB1', 'HML1', 'RMW1', 'CMA1']\n",
    "fama_df = fama_df.loc[('P9714', slice(None)), :]\n",
    "fama_df = fama_df[fama_df.Portfolios==1]\n",
    "fama_df = fama_df.loc[(slice(None), slice(None)), fama_name]\n",
    "fama_df = fama_df.reset_index('MarkettypeID', drop=True)\n",
    "panel = panel.join(fama_df, on='trade_date')"
   ]
  },
  {
   "cell_type": "code",
   "execution_count": 5,
   "id": "5ab27697-3e40-48ee-80c9-7f1d54869ef6",
   "metadata": {},
   "outputs": [],
   "source": [
    "# 面板中不能有na值\n",
    "if panel.isna().sum().sum() != 0:\n",
    "    raise ValueError(\"data have NA\")"
   ]
  },
  {
   "cell_type": "code",
   "execution_count": 20,
   "id": "695e8bb4-6c13-45f0-abf5-6621dc5a8a83",
   "metadata": {},
   "outputs": [
    {
     "name": "stdout",
     "output_type": "stream",
     "text": [
      "(2377260, 18)\n"
     ]
    },
    {
     "data": {
      "application/vnd.jupyter.widget-view+json": {
       "model_id": "71b558d4056e47d985fea16ca092a850",
       "version_major": 2,
       "version_minor": 0
      },
      "text/plain": [
       "0it [00:00, ?it/s]"
      ]
     },
     "metadata": {},
     "output_type": "display_data"
    }
   ],
   "source": [
    "import pandas as pd\n",
    "import numpy as np\n",
    "from tqdm import notebook\n",
    "from sklearn.preprocessing import StandardScaler\n",
    "from sklearn.decomposition import PCA\n",
    "from sklearn.linear_model import  LinearRegression\n",
    "\n",
    "print(panel.shape)\n",
    "# df_1=panel.iloc[:2000,:]\n",
    "df_1=panel.iloc[:,:]\n",
    "\n",
    "def lin_regress(data, R_wind, e_wind):\n",
    "    if len(data)>=R_wind:\n",
    "        # 数据处理\n",
    "        x_column = ['vol', 'turnoverrate', 'skew', 'kurt', 'Institutional_holding', 'Analyst_AVGRate', \n",
    "                    'RiskPremium1', 'SMB1', 'HML1', 'RMW1', 'CMA1']\n",
    "        Y_column = ['AMB']\n",
    "        X = data[x_column].values\n",
    "        Y = np.log(data[Y_column].values)\n",
    "        Y_tsub1 = Y[:-e_wind]\n",
    "        X_tsub1 = X[:-e_wind]\n",
    "        Y_t = Y[e_wind:]\n",
    "        # 当前一期数据用于预测下一期\n",
    "        y_t = Y[-1].reshape(1,-1)\n",
    "        x_t = X[-1].reshape(1,-1)\n",
    "        # ols回归\n",
    "        scaler = StandardScaler()\n",
    "        scaler.fit(X_tsub1)\n",
    "        X_tsub1 = scaler.transform(X_tsub1)\n",
    "        pca = PCA(n_components=0.95)\n",
    "        X_tsub1_pca = pca.fit_transform(X_tsub1)\n",
    "        Y_X_tsub1_pca = np.concatenate([Y_tsub1, X_tsub1_pca], axis=1)\n",
    "        lr=LinearRegression()\n",
    "        lr.fit(Y_X_tsub1_pca, Y_t)\n",
    "        # 预测\n",
    "        x_t = scaler.transform(x_t)\n",
    "        x_t_pca = pca.transform(x_t)\n",
    "        y_x_t_pca = np.concatenate([y_t, x_t_pca], axis=1)\n",
    "        # y_e = np.exp(lr.predict(y_x_t_pca) )\n",
    "        \n",
    "        predicted_values = lr.predict(y_x_t_pca) \n",
    "        clipped_values = np.clip(predicted_values, Y.min()-Y.std(), Y.max()+Y.std()) # 避免出现异常值，也避免指数溢出\n",
    "        y_e = np.exp(clipped_values)\n",
    "        return [y_e[0][0]]\n",
    "    else:\n",
    "        return [np.nan]\n",
    "\n",
    "R_wind = 66 # 滚动窗口\n",
    "e_wind = 5 # 预测窗口\n",
    "AMB_e_df=pd.DataFrame((lin_regress(x, R_wind, e_wind) for x in notebook.tqdm(df_1.rolling(R_wind))),columns=[f'AMB_{e_wind}e'])\n",
    "AMB_e_df.index = df_1.index # 增加索引\n",
    "AMB_e_df = AMB_e_df.groupby('code').apply(lambda x: x.iloc[R_wind-1:,:]).reset_index(level=0, drop=True) # 去除无效回归\n",
    "AMB_e_df.to_csv(f'AMB_{e_wind}e.csv')"
   ]
  }
 ],
 "metadata": {
  "kernelspec": {
   "display_name": "Python 3 (ipykernel)",
   "language": "python",
   "name": "python3"
  },
  "language_info": {
   "codemirror_mode": {
    "name": "ipython",
    "version": 3
   },
   "file_extension": ".py",
   "mimetype": "text/x-python",
   "name": "python",
   "nbconvert_exporter": "python",
   "pygments_lexer": "ipython3",
   "version": "3.11.5"
  },
  "toc": {
   "base_numbering": 1,
   "nav_menu": {},
   "number_sections": true,
   "sideBar": true,
   "skip_h1_title": false,
   "title_cell": "Table of Contents",
   "title_sidebar": "Contents",
   "toc_cell": false,
   "toc_position": {
    "height": "calc(100% - 180px)",
    "left": "10px",
    "top": "150px",
    "width": "304.475px"
   },
   "toc_section_display": true,
   "toc_window_display": true
  },
  "varInspector": {
   "cols": {
    "lenName": 16,
    "lenType": 16,
    "lenVar": 40
   },
   "kernels_config": {
    "python": {
     "delete_cmd_postfix": "",
     "delete_cmd_prefix": "del ",
     "library": "var_list.py",
     "varRefreshCmd": "print(var_dic_list())"
    },
    "r": {
     "delete_cmd_postfix": ") ",
     "delete_cmd_prefix": "rm(",
     "library": "var_list.r",
     "varRefreshCmd": "cat(var_dic_list()) "
    }
   },
   "oldHeight": 481.65,
   "position": {
    "height": "503.25px",
    "left": "1199.4px",
    "right": "20px",
    "top": "90px",
    "width": "299.2px"
   },
   "types_to_exclude": [
    "module",
    "function",
    "builtin_function_or_method",
    "instance",
    "_Feature"
   ],
   "varInspector_section_display": "block",
   "window_display": true
  },
  "widgets": {
   "application/vnd.jupyter.widget-state+json": {
    "state": {
     "008099806a2847979c9d65b7f986d691": {
      "model_module": "@jupyter-widgets/controls",
      "model_module_version": "2.0.0",
      "model_name": "HBoxModel",
      "state": {
       "children": [
        "IPY_MODEL_64a5c448d6734392a2eccba49f3b8759",
        "IPY_MODEL_de8aea6b183c4d8085efb2f53b8ef323",
        "IPY_MODEL_7ded865526554546bf159234cfa12526"
       ],
       "layout": "IPY_MODEL_fb1ae2990e834e6b8a81683b8407cfda"
      }
     },
     "01d8cebe578f4a269beb2bc4417e109c": {
      "model_module": "@jupyter-widgets/base",
      "model_module_version": "2.0.0",
      "model_name": "LayoutModel",
      "state": {}
     },
     "090ecf89e018422aaf661fc888435ed5": {
      "model_module": "@jupyter-widgets/controls",
      "model_module_version": "2.0.0",
      "model_name": "HTMLModel",
      "state": {
       "layout": "IPY_MODEL_8e7aeeb7f6694499a87487854e2cc02d",
       "style": "IPY_MODEL_2b692216762f4fe59d5c6e2097bd718b",
       "value": "100%"
      }
     },
     "091b0c5537b64fe5823d1ff80b3f24ec": {
      "model_module": "@jupyter-widgets/base",
      "model_module_version": "2.0.0",
      "model_name": "LayoutModel",
      "state": {}
     },
     "0a1ee38569a2477fa452b3b0b1e54b5b": {
      "model_module": "@jupyter-widgets/base",
      "model_module_version": "2.0.0",
      "model_name": "LayoutModel",
      "state": {}
     },
     "18b74f4819e949f8ae251b6179c86548": {
      "model_module": "@jupyter-widgets/controls",
      "model_module_version": "2.0.0",
      "model_name": "ProgressStyleModel",
      "state": {
       "description_width": ""
      }
     },
     "18bcc494a9a842c39a2586af5fc57d76": {
      "model_module": "@jupyter-widgets/controls",
      "model_module_version": "2.0.0",
      "model_name": "HBoxModel",
      "state": {
       "children": [
        "IPY_MODEL_b2f04b64c11941f2a948b7597e28dd21",
        "IPY_MODEL_d02a0529fe4449838302976d085e9279",
        "IPY_MODEL_bf50518b4a4d4f1085104d0a378e3ba4"
       ],
       "layout": "IPY_MODEL_808c5cc211434ddeb902dcec8be472fa"
      }
     },
     "1daac984d0174807b6093d392e331c54": {
      "model_module": "@jupyter-widgets/controls",
      "model_module_version": "2.0.0",
      "model_name": "FloatProgressModel",
      "state": {
       "bar_style": "success",
       "layout": "IPY_MODEL_6825221aacac40ab80345569aa834060",
       "max": 360,
       "style": "IPY_MODEL_f229c6be305d4721bd471a3f8c5ea384",
       "value": 360
      }
     },
     "20d63ad7babb41e5bb0b4fbd75087302": {
      "model_module": "@jupyter-widgets/controls",
      "model_module_version": "2.0.0",
      "model_name": "HTMLModel",
      "state": {
       "layout": "IPY_MODEL_9ae84d6d8b444413b487ff740c3749a1",
       "style": "IPY_MODEL_a0b9e45a187b4c798ad42d0102e5d1f2",
       "value": "100%"
      }
     },
     "2121d2aaffae4820ba6e867b4cc0c0ae": {
      "model_module": "@jupyter-widgets/controls",
      "model_module_version": "2.0.0",
      "model_name": "ProgressStyleModel",
      "state": {
       "description_width": ""
      }
     },
     "22f2f7b12dc146819561845ff98842f0": {
      "model_module": "@jupyter-widgets/controls",
      "model_module_version": "2.0.0",
      "model_name": "HTMLStyleModel",
      "state": {
       "description_width": "",
       "font_size": null,
       "text_color": null
      }
     },
     "23129e3d5c5a4f2ba4558d8db6474af1": {
      "model_module": "@jupyter-widgets/base",
      "model_module_version": "2.0.0",
      "model_name": "LayoutModel",
      "state": {}
     },
     "2421392a87da4f70b33ac4e2e729bc7b": {
      "model_module": "@jupyter-widgets/controls",
      "model_module_version": "2.0.0",
      "model_name": "HBoxModel",
      "state": {
       "children": [
        "IPY_MODEL_20d63ad7babb41e5bb0b4fbd75087302",
        "IPY_MODEL_45dca9b945f44de0bafd33dd8e3fc05a",
        "IPY_MODEL_645e5faf6bed42fc8e0e2b0cff7fa60c"
       ],
       "layout": "IPY_MODEL_0a1ee38569a2477fa452b3b0b1e54b5b"
      }
     },
     "24e505b74cb247dcbe9f0869edc586cc": {
      "model_module": "@jupyter-widgets/base",
      "model_module_version": "2.0.0",
      "model_name": "LayoutModel",
      "state": {}
     },
     "2ade6753a77f4c7ea272728676b4923e": {
      "model_module": "@jupyter-widgets/controls",
      "model_module_version": "2.0.0",
      "model_name": "ProgressStyleModel",
      "state": {
       "description_width": ""
      }
     },
     "2b692216762f4fe59d5c6e2097bd718b": {
      "model_module": "@jupyter-widgets/controls",
      "model_module_version": "2.0.0",
      "model_name": "HTMLStyleModel",
      "state": {
       "description_width": "",
       "font_size": null,
       "text_color": null
      }
     },
     "38b0c46d0a604adc8cacb199138c95b0": {
      "model_module": "@jupyter-widgets/base",
      "model_module_version": "2.0.0",
      "model_name": "LayoutModel",
      "state": {}
     },
     "3ee35e1b09994541b2dedcf11baac31d": {
      "model_module": "@jupyter-widgets/base",
      "model_module_version": "2.0.0",
      "model_name": "LayoutModel",
      "state": {}
     },
     "40a136b5fb2f43d6a540d13b62e867d7": {
      "model_module": "@jupyter-widgets/controls",
      "model_module_version": "2.0.0",
      "model_name": "HTMLModel",
      "state": {
       "layout": "IPY_MODEL_38b0c46d0a604adc8cacb199138c95b0",
       "style": "IPY_MODEL_7fb04d07b52a471ca0dcf386a92db15d",
       "value": " 360/360 [00:12&lt;00:00, 27.71it/s]"
      }
     },
     "40f06891b6e440348d2849b65b4ecfcf": {
      "model_module": "@jupyter-widgets/base",
      "model_module_version": "2.0.0",
      "model_name": "LayoutModel",
      "state": {}
     },
     "43613855e311431b9c9c560128f98a89": {
      "model_module": "@jupyter-widgets/controls",
      "model_module_version": "2.0.0",
      "model_name": "HTMLModel",
      "state": {
       "layout": "IPY_MODEL_a567ef5622864e1aa66ec22578748fe2",
       "style": "IPY_MODEL_f05d383f1c09467e99aea9660b648451",
       "value": "100%"
      }
     },
     "44b963af77164a41837b9b4ec83418a6": {
      "model_module": "@jupyter-widgets/base",
      "model_module_version": "2.0.0",
      "model_name": "LayoutModel",
      "state": {}
     },
     "44d85f49a3d1418e829fcba42bce7dfb": {
      "model_module": "@jupyter-widgets/controls",
      "model_module_version": "2.0.0",
      "model_name": "FloatProgressModel",
      "state": {
       "bar_style": "success",
       "layout": "IPY_MODEL_605cad8957d44d5ab5d5f35e15749f7b",
       "max": 360,
       "style": "IPY_MODEL_2121d2aaffae4820ba6e867b4cc0c0ae",
       "value": 360
      }
     },
     "45dca9b945f44de0bafd33dd8e3fc05a": {
      "model_module": "@jupyter-widgets/controls",
      "model_module_version": "2.0.0",
      "model_name": "FloatProgressModel",
      "state": {
       "bar_style": "success",
       "layout": "IPY_MODEL_01d8cebe578f4a269beb2bc4417e109c",
       "max": 360,
       "style": "IPY_MODEL_916feca902ac4477bc6d9cb014d0c5fd",
       "value": 360
      }
     },
     "4e0d56a95c924dcd9253c85c58a0b929": {
      "model_module": "@jupyter-widgets/controls",
      "model_module_version": "2.0.0",
      "model_name": "HTMLModel",
      "state": {
       "layout": "IPY_MODEL_eadeda3532824c789b64723377b6abd6",
       "style": "IPY_MODEL_5828c6a863184da09c7976b65127da11",
       "value": " 360/360 [00:12&lt;00:00, 28.51it/s]"
      }
     },
     "4e490e4ea4a84059afa5e34e641f3ba2": {
      "model_module": "@jupyter-widgets/base",
      "model_module_version": "2.0.0",
      "model_name": "LayoutModel",
      "state": {}
     },
     "515ee08bd9654e2896298a85c80acdf1": {
      "model_module": "@jupyter-widgets/controls",
      "model_module_version": "2.0.0",
      "model_name": "ProgressStyleModel",
      "state": {
       "description_width": ""
      }
     },
     "580d7c05a107417e8a1a9beea899b894": {
      "model_module": "@jupyter-widgets/base",
      "model_module_version": "2.0.0",
      "model_name": "LayoutModel",
      "state": {}
     },
     "5828c6a863184da09c7976b65127da11": {
      "model_module": "@jupyter-widgets/controls",
      "model_module_version": "2.0.0",
      "model_name": "HTMLStyleModel",
      "state": {
       "description_width": "",
       "font_size": null,
       "text_color": null
      }
     },
     "5cd144f1a6d74fffb7ac82b232ca1f10": {
      "model_module": "@jupyter-widgets/controls",
      "model_module_version": "2.0.0",
      "model_name": "HTMLModel",
      "state": {
       "layout": "IPY_MODEL_ebf8a4192b9a4c7187c6482b8f2af13a",
       "style": "IPY_MODEL_f19f1d8e744b4f0d904e26a0731d5b09",
       "value": "100%"
      }
     },
     "5f0d6b30f47d4c9cab8c6cb9000928ab": {
      "model_module": "@jupyter-widgets/controls",
      "model_module_version": "2.0.0",
      "model_name": "HTMLStyleModel",
      "state": {
       "description_width": "",
       "font_size": null,
       "text_color": null
      }
     },
     "605cad8957d44d5ab5d5f35e15749f7b": {
      "model_module": "@jupyter-widgets/base",
      "model_module_version": "2.0.0",
      "model_name": "LayoutModel",
      "state": {}
     },
     "645e5faf6bed42fc8e0e2b0cff7fa60c": {
      "model_module": "@jupyter-widgets/controls",
      "model_module_version": "2.0.0",
      "model_name": "HTMLModel",
      "state": {
       "layout": "IPY_MODEL_e2d43b1052684f58bdfe4f7d38b45243",
       "style": "IPY_MODEL_fbab9345017f42fb8d01c7c695f1e465",
       "value": " 360/360 [00:11&lt;00:00, 28.58it/s]"
      }
     },
     "64a5c448d6734392a2eccba49f3b8759": {
      "model_module": "@jupyter-widgets/controls",
      "model_module_version": "2.0.0",
      "model_name": "HTMLModel",
      "state": {
       "layout": "IPY_MODEL_a7977de0869c48399ccedc90cb966d28",
       "style": "IPY_MODEL_22f2f7b12dc146819561845ff98842f0",
       "value": "100%"
      }
     },
     "6825221aacac40ab80345569aa834060": {
      "model_module": "@jupyter-widgets/base",
      "model_module_version": "2.0.0",
      "model_name": "LayoutModel",
      "state": {}
     },
     "71a46eba72f24d27a4a04aa6524c80a5": {
      "model_module": "@jupyter-widgets/controls",
      "model_module_version": "2.0.0",
      "model_name": "HTMLStyleModel",
      "state": {
       "description_width": "",
       "font_size": null,
       "text_color": null
      }
     },
     "72a919cdf34a4c98a837cb752ea7c923": {
      "model_module": "@jupyter-widgets/controls",
      "model_module_version": "2.0.0",
      "model_name": "HTMLModel",
      "state": {
       "layout": "IPY_MODEL_44b963af77164a41837b9b4ec83418a6",
       "style": "IPY_MODEL_897acad937fd41268e3142c39276b5ac",
       "value": " 360/360 [00:12&lt;00:00, 34.75it/s]"
      }
     },
     "72d4810c13514551a57bb2c3d14ebccc": {
      "model_module": "@jupyter-widgets/controls",
      "model_module_version": "2.0.0",
      "model_name": "HTMLModel",
      "state": {
       "layout": "IPY_MODEL_f2d97a77566d490eb561dcd681dc9c86",
       "style": "IPY_MODEL_5f0d6b30f47d4c9cab8c6cb9000928ab",
       "value": " 360/360 [00:11&lt;00:00, 36.06it/s]"
      }
     },
     "74f9c84f7978476a81f6202bca864cb1": {
      "model_module": "@jupyter-widgets/base",
      "model_module_version": "2.0.0",
      "model_name": "LayoutModel",
      "state": {}
     },
     "7580aa358e9e4d5abd65fab6f6a83e45": {
      "model_module": "@jupyter-widgets/controls",
      "model_module_version": "2.0.0",
      "model_name": "FloatProgressModel",
      "state": {
       "bar_style": "success",
       "layout": "IPY_MODEL_3ee35e1b09994541b2dedcf11baac31d",
       "max": 360,
       "style": "IPY_MODEL_e8f4c79ea84541919679bcc3dae4ed77",
       "value": 360
      }
     },
     "75c523bd1a6144e5b1d66d6398ff07d5": {
      "model_module": "@jupyter-widgets/controls",
      "model_module_version": "2.0.0",
      "model_name": "FloatProgressModel",
      "state": {
       "bar_style": "success",
       "layout": "IPY_MODEL_580d7c05a107417e8a1a9beea899b894",
       "max": 360,
       "style": "IPY_MODEL_515ee08bd9654e2896298a85c80acdf1",
       "value": 360
      }
     },
     "79849ae14c7b4184a4ef010d16b96473": {
      "model_module": "@jupyter-widgets/controls",
      "model_module_version": "2.0.0",
      "model_name": "HBoxModel",
      "state": {
       "children": [
        "IPY_MODEL_88853d8ac2964ea9bc2d2da3dc4466a4",
        "IPY_MODEL_dcc983758e0640b4858eac28fabee345",
        "IPY_MODEL_be279a09ed354f6f8d05f1b02ef74168"
       ],
       "layout": "IPY_MODEL_d53203b2775a411582b418259adc964b"
      }
     },
     "7c18f1c3a5bb465eb07e9e733d584910": {
      "model_module": "@jupyter-widgets/base",
      "model_module_version": "2.0.0",
      "model_name": "LayoutModel",
      "state": {}
     },
     "7ded865526554546bf159234cfa12526": {
      "model_module": "@jupyter-widgets/controls",
      "model_module_version": "2.0.0",
      "model_name": "HTMLModel",
      "state": {
       "layout": "IPY_MODEL_e5ef0dc24c0c4f76866f9425c75c20eb",
       "style": "IPY_MODEL_71a46eba72f24d27a4a04aa6524c80a5",
       "value": " 360/360 [00:12&lt;00:00, 26.57it/s]"
      }
     },
     "7f12488898744a1a835402479550c324": {
      "model_module": "@jupyter-widgets/controls",
      "model_module_version": "2.0.0",
      "model_name": "HBoxModel",
      "state": {
       "children": [
        "IPY_MODEL_96bad86fe30846d7ae11260086fb4bbd",
        "IPY_MODEL_1daac984d0174807b6093d392e331c54",
        "IPY_MODEL_72d4810c13514551a57bb2c3d14ebccc"
       ],
       "layout": "IPY_MODEL_fed22d3bab30471799a6fe973facc103"
      }
     },
     "7fb04d07b52a471ca0dcf386a92db15d": {
      "model_module": "@jupyter-widgets/controls",
      "model_module_version": "2.0.0",
      "model_name": "HTMLStyleModel",
      "state": {
       "description_width": "",
       "font_size": null,
       "text_color": null
      }
     },
     "805f9f9e2f904ea88c7deccd00b8b9ed": {
      "model_module": "@jupyter-widgets/controls",
      "model_module_version": "2.0.0",
      "model_name": "HBoxModel",
      "state": {
       "children": [
        "IPY_MODEL_43613855e311431b9c9c560128f98a89",
        "IPY_MODEL_7580aa358e9e4d5abd65fab6f6a83e45",
        "IPY_MODEL_4e0d56a95c924dcd9253c85c58a0b929"
       ],
       "layout": "IPY_MODEL_4e490e4ea4a84059afa5e34e641f3ba2"
      }
     },
     "808c5cc211434ddeb902dcec8be472fa": {
      "model_module": "@jupyter-widgets/base",
      "model_module_version": "2.0.0",
      "model_name": "LayoutModel",
      "state": {}
     },
     "86a59401eaf640ad99ea9bbfa7e84d6d": {
      "model_module": "@jupyter-widgets/controls",
      "model_module_version": "2.0.0",
      "model_name": "ProgressStyleModel",
      "state": {
       "description_width": ""
      }
     },
     "8735572bdbdd4e66996b2e4f03145cb0": {
      "model_module": "@jupyter-widgets/base",
      "model_module_version": "2.0.0",
      "model_name": "LayoutModel",
      "state": {}
     },
     "88853d8ac2964ea9bc2d2da3dc4466a4": {
      "model_module": "@jupyter-widgets/controls",
      "model_module_version": "2.0.0",
      "model_name": "HTMLModel",
      "state": {
       "layout": "IPY_MODEL_7c18f1c3a5bb465eb07e9e733d584910",
       "style": "IPY_MODEL_d08735b406da4dffbee593ec61016e2c",
       "value": "100%"
      }
     },
     "897acad937fd41268e3142c39276b5ac": {
      "model_module": "@jupyter-widgets/controls",
      "model_module_version": "2.0.0",
      "model_name": "HTMLStyleModel",
      "state": {
       "description_width": "",
       "font_size": null,
       "text_color": null
      }
     },
     "8e7aeeb7f6694499a87487854e2cc02d": {
      "model_module": "@jupyter-widgets/base",
      "model_module_version": "2.0.0",
      "model_name": "LayoutModel",
      "state": {}
     },
     "916feca902ac4477bc6d9cb014d0c5fd": {
      "model_module": "@jupyter-widgets/controls",
      "model_module_version": "2.0.0",
      "model_name": "ProgressStyleModel",
      "state": {
       "description_width": ""
      }
     },
     "96b514e2533449e9b8a76bff87e6c7b6": {
      "model_module": "@jupyter-widgets/controls",
      "model_module_version": "2.0.0",
      "model_name": "HTMLStyleModel",
      "state": {
       "description_width": "",
       "font_size": null,
       "text_color": null
      }
     },
     "96bad86fe30846d7ae11260086fb4bbd": {
      "model_module": "@jupyter-widgets/controls",
      "model_module_version": "2.0.0",
      "model_name": "HTMLModel",
      "state": {
       "layout": "IPY_MODEL_f9b2aa3dc2e74458b29e623baf676c3c",
       "style": "IPY_MODEL_96b514e2533449e9b8a76bff87e6c7b6",
       "value": "100%"
      }
     },
     "989e55ce1eca4155802b15b09e0e6a6c": {
      "model_module": "@jupyter-widgets/base",
      "model_module_version": "2.0.0",
      "model_name": "LayoutModel",
      "state": {}
     },
     "9ae84d6d8b444413b487ff740c3749a1": {
      "model_module": "@jupyter-widgets/base",
      "model_module_version": "2.0.0",
      "model_name": "LayoutModel",
      "state": {}
     },
     "a0b9e45a187b4c798ad42d0102e5d1f2": {
      "model_module": "@jupyter-widgets/controls",
      "model_module_version": "2.0.0",
      "model_name": "HTMLStyleModel",
      "state": {
       "description_width": "",
       "font_size": null,
       "text_color": null
      }
     },
     "a567ef5622864e1aa66ec22578748fe2": {
      "model_module": "@jupyter-widgets/base",
      "model_module_version": "2.0.0",
      "model_name": "LayoutModel",
      "state": {}
     },
     "a7977de0869c48399ccedc90cb966d28": {
      "model_module": "@jupyter-widgets/base",
      "model_module_version": "2.0.0",
      "model_name": "LayoutModel",
      "state": {}
     },
     "a7d058ee8f8a4d61b6178d02b11aefaf": {
      "model_module": "@jupyter-widgets/controls",
      "model_module_version": "2.0.0",
      "model_name": "HTMLModel",
      "state": {
       "layout": "IPY_MODEL_d0d75028b6164e62a84d134270d3bb58",
       "style": "IPY_MODEL_e10d3a0fcd75487ba15f0aea2db594e5",
       "value": " 360/360 [00:11&lt;00:00, 31.70it/s]"
      }
     },
     "b2f04b64c11941f2a948b7597e28dd21": {
      "model_module": "@jupyter-widgets/controls",
      "model_module_version": "2.0.0",
      "model_name": "HTMLModel",
      "state": {
       "layout": "IPY_MODEL_74f9c84f7978476a81f6202bca864cb1",
       "style": "IPY_MODEL_c017831114fa4edbb6ee927227bf918f",
       "value": "100%"
      }
     },
     "b83e11e856df4951994844a71a6e8c45": {
      "model_module": "@jupyter-widgets/controls",
      "model_module_version": "2.0.0",
      "model_name": "HTMLStyleModel",
      "state": {
       "description_width": "",
       "font_size": null,
       "text_color": null
      }
     },
     "b8aac13b59a7456e940419e1df43ba2a": {
      "model_module": "@jupyter-widgets/base",
      "model_module_version": "2.0.0",
      "model_name": "LayoutModel",
      "state": {}
     },
     "bdab25703f3f43b29153f3d3a08e1f23": {
      "model_module": "@jupyter-widgets/controls",
      "model_module_version": "2.0.0",
      "model_name": "HTMLModel",
      "state": {
       "layout": "IPY_MODEL_091b0c5537b64fe5823d1ff80b3f24ec",
       "style": "IPY_MODEL_bde41fffe7ff448ba5d8c665d7d06c37",
       "value": "100%"
      }
     },
     "bde41fffe7ff448ba5d8c665d7d06c37": {
      "model_module": "@jupyter-widgets/controls",
      "model_module_version": "2.0.0",
      "model_name": "HTMLStyleModel",
      "state": {
       "description_width": "",
       "font_size": null,
       "text_color": null
      }
     },
     "be279a09ed354f6f8d05f1b02ef74168": {
      "model_module": "@jupyter-widgets/controls",
      "model_module_version": "2.0.0",
      "model_name": "HTMLModel",
      "state": {
       "layout": "IPY_MODEL_8735572bdbdd4e66996b2e4f03145cb0",
       "style": "IPY_MODEL_b83e11e856df4951994844a71a6e8c45",
       "value": " 360/360 [00:11&lt;00:00, 34.35it/s]"
      }
     },
     "bf50518b4a4d4f1085104d0a378e3ba4": {
      "model_module": "@jupyter-widgets/controls",
      "model_module_version": "2.0.0",
      "model_name": "HTMLModel",
      "state": {
       "layout": "IPY_MODEL_989e55ce1eca4155802b15b09e0e6a6c",
       "style": "IPY_MODEL_d0030c7149d94bca841496af58eca2ef",
       "value": " 360/360 [00:11&lt;00:00, 30.61it/s]"
      }
     },
     "c017831114fa4edbb6ee927227bf918f": {
      "model_module": "@jupyter-widgets/controls",
      "model_module_version": "2.0.0",
      "model_name": "HTMLStyleModel",
      "state": {
       "description_width": "",
       "font_size": null,
       "text_color": null
      }
     },
     "c2a48a5e6dae41278af80515be05fa68": {
      "model_module": "@jupyter-widgets/controls",
      "model_module_version": "2.0.0",
      "model_name": "HBoxModel",
      "state": {
       "children": [
        "IPY_MODEL_5cd144f1a6d74fffb7ac82b232ca1f10",
        "IPY_MODEL_44d85f49a3d1418e829fcba42bce7dfb",
        "IPY_MODEL_40a136b5fb2f43d6a540d13b62e867d7"
       ],
       "layout": "IPY_MODEL_df231fededd6434faffafa8c8ddfb477"
      }
     },
     "cce31e0a617f4b83bc8c93bd8ad91208": {
      "model_module": "@jupyter-widgets/controls",
      "model_module_version": "2.0.0",
      "model_name": "ProgressStyleModel",
      "state": {
       "description_width": ""
      }
     },
     "d0030c7149d94bca841496af58eca2ef": {
      "model_module": "@jupyter-widgets/controls",
      "model_module_version": "2.0.0",
      "model_name": "HTMLStyleModel",
      "state": {
       "description_width": "",
       "font_size": null,
       "text_color": null
      }
     },
     "d02a0529fe4449838302976d085e9279": {
      "model_module": "@jupyter-widgets/controls",
      "model_module_version": "2.0.0",
      "model_name": "FloatProgressModel",
      "state": {
       "bar_style": "success",
       "layout": "IPY_MODEL_24e505b74cb247dcbe9f0869edc586cc",
       "max": 360,
       "style": "IPY_MODEL_18b74f4819e949f8ae251b6179c86548",
       "value": 360
      }
     },
     "d08735b406da4dffbee593ec61016e2c": {
      "model_module": "@jupyter-widgets/controls",
      "model_module_version": "2.0.0",
      "model_name": "HTMLStyleModel",
      "state": {
       "description_width": "",
       "font_size": null,
       "text_color": null
      }
     },
     "d0d75028b6164e62a84d134270d3bb58": {
      "model_module": "@jupyter-widgets/base",
      "model_module_version": "2.0.0",
      "model_name": "LayoutModel",
      "state": {}
     },
     "d53203b2775a411582b418259adc964b": {
      "model_module": "@jupyter-widgets/base",
      "model_module_version": "2.0.0",
      "model_name": "LayoutModel",
      "state": {}
     },
     "d65742b9ec034950b8f77ddd2df1add4": {
      "model_module": "@jupyter-widgets/base",
      "model_module_version": "2.0.0",
      "model_name": "LayoutModel",
      "state": {}
     },
     "dcc983758e0640b4858eac28fabee345": {
      "model_module": "@jupyter-widgets/controls",
      "model_module_version": "2.0.0",
      "model_name": "FloatProgressModel",
      "state": {
       "bar_style": "success",
       "layout": "IPY_MODEL_23129e3d5c5a4f2ba4558d8db6474af1",
       "max": 360,
       "style": "IPY_MODEL_86a59401eaf640ad99ea9bbfa7e84d6d",
       "value": 360
      }
     },
     "de8aea6b183c4d8085efb2f53b8ef323": {
      "model_module": "@jupyter-widgets/controls",
      "model_module_version": "2.0.0",
      "model_name": "FloatProgressModel",
      "state": {
       "bar_style": "success",
       "layout": "IPY_MODEL_ef039774074f4204ace54842422d40d8",
       "max": 360,
       "style": "IPY_MODEL_cce31e0a617f4b83bc8c93bd8ad91208",
       "value": 360
      }
     },
     "df231fededd6434faffafa8c8ddfb477": {
      "model_module": "@jupyter-widgets/base",
      "model_module_version": "2.0.0",
      "model_name": "LayoutModel",
      "state": {}
     },
     "e10d3a0fcd75487ba15f0aea2db594e5": {
      "model_module": "@jupyter-widgets/controls",
      "model_module_version": "2.0.0",
      "model_name": "HTMLStyleModel",
      "state": {
       "description_width": "",
       "font_size": null,
       "text_color": null
      }
     },
     "e2d43b1052684f58bdfe4f7d38b45243": {
      "model_module": "@jupyter-widgets/base",
      "model_module_version": "2.0.0",
      "model_name": "LayoutModel",
      "state": {}
     },
     "e43ebdb5e2b74fe0946768b81a8739a8": {
      "model_module": "@jupyter-widgets/controls",
      "model_module_version": "2.0.0",
      "model_name": "FloatProgressModel",
      "state": {
       "bar_style": "success",
       "layout": "IPY_MODEL_40f06891b6e440348d2849b65b4ecfcf",
       "max": 360,
       "style": "IPY_MODEL_2ade6753a77f4c7ea272728676b4923e",
       "value": 360
      }
     },
     "e514d5f53f5f4393aa3bcc62e227f01f": {
      "model_module": "@jupyter-widgets/controls",
      "model_module_version": "2.0.0",
      "model_name": "HBoxModel",
      "state": {
       "children": [
        "IPY_MODEL_090ecf89e018422aaf661fc888435ed5",
        "IPY_MODEL_e43ebdb5e2b74fe0946768b81a8739a8",
        "IPY_MODEL_72a919cdf34a4c98a837cb752ea7c923"
       ],
       "layout": "IPY_MODEL_d65742b9ec034950b8f77ddd2df1add4"
      }
     },
     "e5ef0dc24c0c4f76866f9425c75c20eb": {
      "model_module": "@jupyter-widgets/base",
      "model_module_version": "2.0.0",
      "model_name": "LayoutModel",
      "state": {}
     },
     "e8f4c79ea84541919679bcc3dae4ed77": {
      "model_module": "@jupyter-widgets/controls",
      "model_module_version": "2.0.0",
      "model_name": "ProgressStyleModel",
      "state": {
       "description_width": ""
      }
     },
     "eadeda3532824c789b64723377b6abd6": {
      "model_module": "@jupyter-widgets/base",
      "model_module_version": "2.0.0",
      "model_name": "LayoutModel",
      "state": {}
     },
     "ebf8a4192b9a4c7187c6482b8f2af13a": {
      "model_module": "@jupyter-widgets/base",
      "model_module_version": "2.0.0",
      "model_name": "LayoutModel",
      "state": {}
     },
     "ef039774074f4204ace54842422d40d8": {
      "model_module": "@jupyter-widgets/base",
      "model_module_version": "2.0.0",
      "model_name": "LayoutModel",
      "state": {}
     },
     "f05d383f1c09467e99aea9660b648451": {
      "model_module": "@jupyter-widgets/controls",
      "model_module_version": "2.0.0",
      "model_name": "HTMLStyleModel",
      "state": {
       "description_width": "",
       "font_size": null,
       "text_color": null
      }
     },
     "f19f1d8e744b4f0d904e26a0731d5b09": {
      "model_module": "@jupyter-widgets/controls",
      "model_module_version": "2.0.0",
      "model_name": "HTMLStyleModel",
      "state": {
       "description_width": "",
       "font_size": null,
       "text_color": null
      }
     },
     "f229c6be305d4721bd471a3f8c5ea384": {
      "model_module": "@jupyter-widgets/controls",
      "model_module_version": "2.0.0",
      "model_name": "ProgressStyleModel",
      "state": {
       "description_width": ""
      }
     },
     "f2d97a77566d490eb561dcd681dc9c86": {
      "model_module": "@jupyter-widgets/base",
      "model_module_version": "2.0.0",
      "model_name": "LayoutModel",
      "state": {}
     },
     "f5bdf7ed42db4e22b9a183d207465b51": {
      "model_module": "@jupyter-widgets/controls",
      "model_module_version": "2.0.0",
      "model_name": "HBoxModel",
      "state": {
       "children": [
        "IPY_MODEL_bdab25703f3f43b29153f3d3a08e1f23",
        "IPY_MODEL_75c523bd1a6144e5b1d66d6398ff07d5",
        "IPY_MODEL_a7d058ee8f8a4d61b6178d02b11aefaf"
       ],
       "layout": "IPY_MODEL_b8aac13b59a7456e940419e1df43ba2a"
      }
     },
     "f9b2aa3dc2e74458b29e623baf676c3c": {
      "model_module": "@jupyter-widgets/base",
      "model_module_version": "2.0.0",
      "model_name": "LayoutModel",
      "state": {}
     },
     "fb1ae2990e834e6b8a81683b8407cfda": {
      "model_module": "@jupyter-widgets/base",
      "model_module_version": "2.0.0",
      "model_name": "LayoutModel",
      "state": {}
     },
     "fbab9345017f42fb8d01c7c695f1e465": {
      "model_module": "@jupyter-widgets/controls",
      "model_module_version": "2.0.0",
      "model_name": "HTMLStyleModel",
      "state": {
       "description_width": "",
       "font_size": null,
       "text_color": null
      }
     },
     "fed22d3bab30471799a6fe973facc103": {
      "model_module": "@jupyter-widgets/base",
      "model_module_version": "2.0.0",
      "model_name": "LayoutModel",
      "state": {}
     }
    },
    "version_major": 2,
    "version_minor": 0
   }
  }
 },
 "nbformat": 4,
 "nbformat_minor": 5
}
