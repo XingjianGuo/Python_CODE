{
 "cells": [
  {
   "cell_type": "markdown",
   "id": "10eb4b51-3fc6-456b-be94-c1bf5b4a5448",
   "metadata": {},
   "source": [
    "# calculate CVaR"
   ]
  },
  {
   "cell_type": "code",
   "execution_count": 1,
   "id": "7cd6a5ce-c750-4952-a04b-bb25b237c925",
   "metadata": {},
   "outputs": [],
   "source": [
    "import pandas as pd\n",
    "import numpy as np\n",
    "import numba as nb\n",
    "from tqdm import notebook\n",
    "\n",
    "dataset_name = 'total'\n",
    "# 创建一个迭代器，按照 chunksize 逐块读取数据\n",
    "panel = pd.read_csv(f'{dataset_name}_panel.csv', parse_dates=['trade_date'], index_col=['code','trade_date'])"
   ]
  },
  {
   "cell_type": "code",
   "execution_count": 2,
   "id": "9da15237-3fac-4f4d-ac35-d38e5597b1a3",
   "metadata": {},
   "outputs": [],
   "source": [
    "# 回归参数\n",
    "X = ['skew', 'kurt', 'turnoverrate', 'vol',  'Institutional_holding', 'Analyst_AVGRate'] # 用于回归确定Wx的自变量\n",
    "Y = ['CVaR'] # 用于回归确定Wx的因变量\n",
    "# 将坐标捆在一起 \n",
    "Y_and_X = Y.copy()\n",
    "Y_and_X.extend(X)"
   ]
  },
  {
   "cell_type": "code",
   "execution_count": 3,
   "id": "19692889-7c20-4dd9-9e90-84d13fa8b2a4",
   "metadata": {},
   "outputs": [],
   "source": [
    "# 生成Wx\n",
    "from scipy.stats import norm\n",
    "# 定义岭回归函数\n",
    "\n",
    "alpha = 0.7 # 置信水平\n",
    "Z_alpha = norm.ppf(alpha)\n",
    "@nb.jit(nopython=True)\n",
    "def CVaR_algorithm(series, lam=0.96, Z_alpha=Z_alpha):\n",
    "    mean = np.mean(series)\n",
    "    lam_array = np.array([lam] * series.shape[0]).cumprod()[::-1]\n",
    "    sigma = np.sqrt((1-lam)*np.sum((lam_array * (series - mean) ** 2))) # 指数加权法求方差\n",
    "    VaR = - (mean - sigma * Z_alpha)\n",
    "    CVaR_values = np.absolute(series[series <= - VaR])\n",
    "    if len(CVaR_values) == 0:\n",
    "        CVaR = 0\n",
    "    else:\n",
    "        CVaR = np.mean(CVaR_values)\n",
    "    return CVaR\n",
    "    \n",
    "# 自变量对CVaR回归生成Wx\n",
    "CVaR = panel.ret.dropna().groupby('code').rolling(66, method='single').apply(CVaR_algorithm, raw=True, engine='numba')\n",
    "CVaR = CVaR.reset_index(level=0, drop=True)\n",
    "CVaR.name ='CVaR' \n",
    "# panel = panel.drop(columns='CVaR')\n",
    "panel = panel.join(CVaR)"
   ]
  },
  {
   "cell_type": "code",
   "execution_count": 4,
   "id": "e52482f5-8afd-42ee-91c1-66d8f250d025",
   "metadata": {},
   "outputs": [],
   "source": [
    "# 数据处理\n",
    "\n",
    "# 选出回归用到的数据\n",
    "data = panel[Y_and_X].copy()\n",
    "# 自变量滞后一阶\n",
    "data = data[Y].join(data[X].groupby('code').shift(1))\n",
    "# 剔除na值\n",
    "data = data.dropna()\n",
    "\n",
    "df = data.copy()"
   ]
  },
  {
   "cell_type": "markdown",
   "id": "7bd617fd-5cf8-4752-a101-9a6e368189f4",
   "metadata": {},
   "source": [
    "## 法一：用岭回归生成Wx "
   ]
  },
  {
   "cell_type": "code",
   "execution_count": null,
   "id": "e84c08b0-9ef0-4c5b-b4c4-cad0365fe0f7",
   "metadata": {},
   "outputs": [],
   "source": [
    "# 生成Wx\n",
    "\n",
    "# 定义岭回归函数\n",
    "# @nb.jit(nopython=True)\n",
    "def Righe(df, lam=0.1):\n",
    "    Y = df[:, 0]\n",
    "    X = df[:, 1:]\n",
    "    for i in range(X.shape[0]): # 标准化\n",
    "        X_mean = X[:,i].mean()\n",
    "        X_std = X[:,i].std()\n",
    "        X[:,i] = (X[:,i] - X_mean)/X_std()\n",
    "    XTX = X.T @ X\n",
    "    beta = np.linalg.inv(XTX + lam * np.identity(XTX.shape[1])) @ X.T @ Y\n",
    "    return Y[-1], beta[0], beta[1], beta[2], beta[3], beta[4], beta[5]\n",
    "    \n",
    "# 自变量对CVaR回归生成Wx\n",
    "Wx = data[Y_and_X].groupby('code').rolling(66, method='table').apply(Righe, raw=True, engine='numba')\n",
    "Wx = Wx.reset_index(level=0, drop=True)"
   ]
  },
  {
   "cell_type": "code",
   "execution_count": null,
   "id": "e1b3c57b-0617-4b74-a93c-b1c5b53125a7",
   "metadata": {},
   "outputs": [],
   "source": [
    "# 保存Wx\n",
    "\n",
    "Wx.to_csv(f'{dataset_name}_Wx.csv')"
   ]
  },
  {
   "cell_type": "markdown",
   "id": "d2662bff-6825-4742-a973-8b6820402cca",
   "metadata": {},
   "source": [
    "## 法二：OLS生成Wx"
   ]
  },
  {
   "cell_type": "code",
   "execution_count": 17,
   "id": "abe6df9b-01c6-46eb-85fe-d0d4abae1a67",
   "metadata": {},
   "outputs": [],
   "source": [
    "import pandas as pd\n",
    "import numpy as np\n",
    "from tqdm import notebook\n",
    "\n",
    "dataset_name = 'total'\n",
    "# 创建一个迭代器，按照 chunksize 逐块读取数据\n",
    "panel = pd.read_csv(f'{dataset_name}_panel.csv', parse_dates=['trade_date'], index_col=['code','trade_date'])"
   ]
  },
  {
   "cell_type": "code",
   "execution_count": 2,
   "id": "8b07d96a-af73-4b16-a382-6084d9eb5450",
   "metadata": {},
   "outputs": [],
   "source": [
    "dataset_name = 'total'\n",
    "chunksize=670  # 2020年12月1日到2023年8月31日的交易日\n",
    "\n",
    "# 创建一个迭代器，按照 chunksize 逐块读取数据\n",
    "data_iterator = pd.read_csv(f'{dataset_name}_panel.csv', chunksize=chunksize, parse_dates=['trade_date'], index_col=['code','trade_date'])\n",
    "CVaR_list = []\n",
    "# 遍历每个块\n",
    "for chunk in notebook.tqdm(data_iterator):\n",
    "    chunk_CVaR = chunk.ret.rolling(10).apply(lambda x: ES_Daily(x, alpha))\n",
    "CVaR = pd.concat(CVaR_list, axis=0)"
   ]
  },
  {
   "cell_type": "code",
   "execution_count": 6,
   "id": "5230a513-30cc-4b4b-923d-a9901aa49f26",
   "metadata": {},
   "outputs": [],
   "source": [
    "def ES_Daily(a,x):\n",
    "    VaR=np.percentile(a,x*100)\n",
    "    ES=a[a>=VaR].mean()\n",
    "    return ES\n",
    "    \n",
    "# 置信水平\n",
    "alpha = 0.95\n",
    "CVaR = panel.ret.groupby('code').rolling(125, axis=0).apply(lambda x: ES_Daily(x, alpha))\n",
    "CVaR = CVaR.reset_index(level=0, drop=True)\n",
    "CVaR.name = 'CVaR'\n",
    "panel = panel.join(CVaR)\n",
    "panel.to_csv(f'{dataset_name}_panel.csv')"
   ]
  },
  {
   "cell_type": "markdown",
   "id": "7ec0d38a-6be9-4834-a35e-d802b0bb343d",
   "metadata": {},
   "source": [
    "#### 回归"
   ]
  },
  {
   "cell_type": "code",
   "execution_count": 30,
   "id": "f87ba60a-482b-40b4-a80d-6f6670f0f6a3",
   "metadata": {},
   "outputs": [
    {
     "data": {
      "application/vnd.jupyter.widget-view+json": {
       "model_id": "36642afde1c748ad9aa3033c4cc9295c",
       "version_major": 2,
       "version_minor": 0
      },
      "text/plain": [
       "0it [00:00, ?it/s]"
      ]
     },
     "metadata": {},
     "output_type": "display_data"
    }
   ],
   "source": [
    "import pandas as pd\n",
    "from sklearn import linear_model\n",
    "from sklearn.preprocessing import StandardScaler\n",
    "\n",
    "from tqdm import notebook\n",
    "import gc\n",
    "\n",
    "dataset_name = 'total'\n",
    "chunksize=729  # 2020年9月1日到2023年8月31日的交易日 CVaR是半年收益率计算并从2021年3月10日开始的\n",
    "\n",
    "X = ['skew', 'kurt', 'turnoverrate', 'vol',  'Institutional_holding', 'Analyst_AVGRate'] # 用于回归确定Wx的自变量\n",
    "Y = ['CVaR'] # 用于回归确定Wx的因变量\n",
    "# # 设置可调参数delta，用于稳健回归模型的delta参数\n",
    "# delta = 1.0\n",
    "\n",
    "# 创建一个迭代器，按照 chunksize 逐块读取数据\n",
    "data_iterator = pd.read_csv(f'{dataset_name}_panel.csv', chunksize=chunksize, parse_dates=['trade_date'], index_col=['code','trade_date'])\n",
    "\n",
    "code_name = panel.index.get_level_values(level=0).unique()\n",
    "code_series = pd.Series(data=code_name, index=code_name)\n",
    "\n",
    "    \n",
    "# 遍历每个块\n",
    "for chunk in notebook.tqdm(data_iterator):\n",
    "    if chunk.index.get_level_values(level=0).unique()[0] in code_series['603863.SH':]:\n",
    "    \n",
    "        chunk.sort_index(ascending=True, inplace=True)\n",
    "        # 自变量的滞后一阶\n",
    "        chunk[X] = chunk[X].shift(1)\n",
    "        # 使用 drop 方法删除第一行\n",
    "        chunk = chunk.drop(chunk.index[0])\n",
    "    \n",
    "        # 每个 chunk 是一个 DataFrame，包含 chunksize 行的数据\n",
    "        code = chunk.index.get_level_values(0).unique().to_list()[0] # 将索引转化为字符串\n",
    "        time_list = chunk.index.get_level_values(1).unique().to_list()\n",
    "    \n",
    "        Wx_one_list = []\n",
    "        X_mean_list = []\n",
    "        X_std_list = []\n",
    "            \n",
    "        for t in range(len(time_list)-125-125): # 多减去的125是计算CVaR的周期\n",
    "            # print(f'name of code{code} \\n name of time{time_list[t+249]}')\n",
    "            chunk_part = chunk.loc[(code, slice(time_list[t+125], time_list[t+125+125])), :]\n",
    "            X_df = chunk_part[X]\n",
    "            Y_df = chunk_part[Y]\n",
    "            # 标准化输入特征\n",
    "            scaler = StandardScaler()\n",
    "            X_df_fit = scaler.fit(X_df)\n",
    "            X_df = scaler.transform(X_df)\n",
    "            \n",
    "            #保存标准化参数\n",
    "            X_mean = X_df_fit.mean_\n",
    "            X_std = X_df_fit.scale_\n",
    "            X_mean = pd.Series(data=X_mean, index=X, name=time_list[t+125+125])\n",
    "            X_std = pd.Series(data=X_std, index=X, name=time_list[t+125+125])\n",
    "            X_mean = pd.DataFrame(X_mean)\n",
    "            X_std = pd.DataFrame(X_std)\n",
    "            \n",
    "            # 岭回归模型\n",
    "            regr = linear_model.Ridge(alpha=0.01, fit_intercept=False, random_state=0)\n",
    "            regr.fit(X_df, Y_df)\n",
    "            Wx = regr.coef_\n",
    "            Wx = pd.Series(data=Wx[0], index=X, name=time_list[t+125+125])\n",
    "            Wx = pd.DataFrame(Wx)\n",
    "            \n",
    "            #保存数据到list\n",
    "            Wx_one_list.append(Wx.T)\n",
    "            X_mean_list.append(X_mean.T)\n",
    "            X_std_list.append(X_std.T)\n",
    "    \n",
    "        # 将数据写入硬盘\n",
    "        for _name, _list in [('Wx',Wx_one_list),('X_mean',X_mean_list),('X_std',X_std_list)]:\n",
    "            _df = pd.concat(_list)\n",
    "            _df['trade_date'] = _df.index\n",
    "            _df['code'] = code\n",
    "            _df.set_index(['code','trade_date'], inplace=True)\n",
    "            _df.to_csv(f'{dataset_name}_{_name}/{_name}{code}.csv')\n",
    "            del _df  # 释放内存\n",
    "        del chunk\n",
    "        \n",
    "        # 保存处理后的批次数据\n",
    "        Wx_one_df.to_csv(f'{dataset_name}_Wx/Wx{code}.csv')\n",
    "        del Wx_one_df  # 释放内存\n",
    "        del chunk\n",
    "        gc.collect()  # 手动触发垃圾回收"
   ]
  },
  {
   "cell_type": "markdown",
   "id": "3526f96e-6d65-46f3-b063-979004197821",
   "metadata": {},
   "source": [
    "### 整合数据"
   ]
  },
  {
   "cell_type": "code",
   "execution_count": 31,
   "id": "5e70fa3a-d4ab-4324-9eb4-daf6644e6362",
   "metadata": {},
   "outputs": [],
   "source": [
    "# 将Wx整合为面板\n",
    "import os\n",
    "path = 'total_Wx/'\n",
    "filesnames = os.listdir(path)\n",
    "filesnames = [f for f in filesnames if f.lower().endswith(\".csv\")]\n",
    "df_list = []\n",
    "for filename in filesnames:\n",
    "    df_list.append(pd.read_csv(path + filename))\n",
    "\n",
    "df = pd.concat(df_list)\n",
    "# 保存数据\n",
    "df.set_index(['code','trade_date'], inplace=True)\n",
    "df.sort_index(ascending=True, inplace=True)\n",
    "df.to_csv('total_Wx.csv')"
   ]
  }
 ],
 "metadata": {
  "kernelspec": {
   "display_name": "Python 3 (ipykernel)",
   "language": "python",
   "name": "python3"
  },
  "language_info": {
   "codemirror_mode": {
    "name": "ipython",
    "version": 3
   },
   "file_extension": ".py",
   "mimetype": "text/x-python",
   "name": "python",
   "nbconvert_exporter": "python",
   "pygments_lexer": "ipython3",
   "version": "3.11.5"
  },
  "toc": {
   "base_numbering": 1,
   "nav_menu": {},
   "number_sections": true,
   "sideBar": true,
   "skip_h1_title": false,
   "title_cell": "Table of Contents",
   "title_sidebar": "Contents",
   "toc_cell": false,
   "toc_position": {
    "height": "calc(100% - 180px)",
    "left": "10px",
    "top": "150px",
    "width": "304.475px"
   },
   "toc_section_display": true,
   "toc_window_display": true
  },
  "varInspector": {
   "cols": {
    "lenName": 16,
    "lenType": 16,
    "lenVar": 40
   },
   "kernels_config": {
    "python": {
     "delete_cmd_postfix": "",
     "delete_cmd_prefix": "del ",
     "library": "var_list.py",
     "varRefreshCmd": "print(var_dic_list())"
    },
    "r": {
     "delete_cmd_postfix": ") ",
     "delete_cmd_prefix": "rm(",
     "library": "var_list.r",
     "varRefreshCmd": "cat(var_dic_list()) "
    }
   },
   "oldHeight": 481.65,
   "position": {
    "height": "503.25px",
    "left": "1199.4px",
    "right": "20px",
    "top": "90px",
    "width": "299.2px"
   },
   "types_to_exclude": [
    "module",
    "function",
    "builtin_function_or_method",
    "instance",
    "_Feature"
   ],
   "varInspector_section_display": "block",
   "window_display": true
  },
  "widgets": {
   "application/vnd.jupyter.widget-state+json": {
    "state": {},
    "version_major": 2,
    "version_minor": 0
   }
  }
 },
 "nbformat": 4,
 "nbformat_minor": 5
}
