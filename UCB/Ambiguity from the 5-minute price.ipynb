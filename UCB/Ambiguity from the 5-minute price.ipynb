{
 "cells": [
  {
   "cell_type": "code",
   "execution_count": 1,
   "id": "767c062f-9772-4157-87cc-0a699102bc4e",
   "metadata": {},
   "outputs": [],
   "source": [
    "import pandas as pd\n",
    "import numpy as np\n",
    "from scipy.stats import norm\n",
    "import os\n",
    "import numba as nb\n",
    "from tqdm import notebook"
   ]
  },
  {
   "cell_type": "markdown",
   "id": "2e5551a1-b4d4-4050-b2e5-a1e516cadc1e",
   "metadata": {},
   "source": [
    "# Function（Run it once）"
   ]
  },
  {
   "cell_type": "markdown",
   "id": "7f206d62-c418-4bfe-a204-8843f87cfd1f",
   "metadata": {},
   "source": [
    "## Process data"
   ]
  },
  {
   "cell_type": "code",
   "execution_count": 2,
   "id": "cd09ad45-b4fd-457b-b028-2d4a47e71cd4",
   "metadata": {},
   "outputs": [],
   "source": [
    "def handle_data(df): \n",
    "    df.drop('Unnamed: 0', axis=1, inplace=True)\n",
    "    df.rename(columns={ '日期':'trade_date',\n",
    "                            '时间':'time',\n",
    "                            '代码':'code',\n",
    "                            '开盘':'open',\n",
    "                            '最高':'high',\n",
    "                            '最低':'low',\n",
    "                            '收盘':'close',\n",
    "                            '成交量(股)':'volume',\n",
    "                            '成交金额(元)':'turnover',\n",
    "                            '复权状态':'status',\n",
    "                            }, inplace=True)\n",
    "    df['trade_date'] = pd.to_datetime(df['trade_date'])\n",
    "    df.time = pd.to_datetime(df['time'], format='%H:%M').dt.time\n",
    "    df.set_index(['code','trade_date','time'], inplace=True)\n",
    "    df.sort_index(level=['code','trade_date','time'], ascending=True, inplace=True)\n",
    "    return df"
   ]
  },
  {
   "cell_type": "markdown",
   "id": "22332532-b665-4704-8789-377ce6206b26",
   "metadata": {},
   "source": [
    "## Calculate Probability of Bin"
   ]
  },
  {
   "cell_type": "code",
   "execution_count": null,
   "id": "fddf1428-9b32-40c3-b5a3-6f77e93428c2",
   "metadata": {},
   "outputs": [],
   "source": [
    "def Pr_bin(mean, std):\n",
    "    r = np.linspace(-0.08, 0.08, 161) \n",
    "    r = np.concatenate([-np.inf, r, np.inf], axis=None)\n",
    "    if std != 0:\n",
    "        r_cdf = norm.cdf(r, loc=mean, scale=std) \n",
    "        Pr_bin = np.diff(r_cdf)\n",
    "    else:\n",
    "        index = np.searchsorted(r, mean)-1\n",
    "        Pr_bin = np.zeros(len(r)-1)\n",
    "        Pr_bin[index] = 1\n",
    "        print('Standard Deviation is Zero')\n",
    "    return Pr_bin\n",
    "\n",
    "def get_Pr_bin(df):\n",
    "    # 补充每日9：30的数据\n",
    "    first_df = df.loc[(slice(None), slice(None), pd.to_datetime('9:35', format='%H:%M').time()), ['open']].copy()\n",
    "    first_df.reset_index('time', drop=True, inplace=True)\n",
    "    first_df['time'] = pd.to_datetime('9:00', format='%H:%M').time()\n",
    "    first_df = first_df.set_index('time', append=True)\n",
    "    first_df = first_df.rename(columns={'open':'close'})\n",
    "    # 补充每日13：00的数据\n",
    "    mid_df = df.loc[(slice(None), slice(None), pd.to_datetime('13:05', format='%H:%M').time()), ['open']].copy()\n",
    "    mid_df.reset_index('time', drop=True, inplace=True)\n",
    "    mid_df['time'] = pd.to_datetime('13:00', format='%H:%M').time()\n",
    "    mid_df = mid_df.set_index('time', append=True)\n",
    "    mid_df = mid_df.rename(columns={'open':'close'})\n",
    "    # 增加NA，避免计算午间收益率\n",
    "    NA_df = df.loc[(slice(None), slice(None), pd.to_datetime('13:05', format='%H:%M').time()), ['open']].copy()\n",
    "    NA_df.reset_index('time', drop=True, inplace=True)\n",
    "    NA_df['time'] = pd.to_datetime('12:00', format='%H:%M').time()\n",
    "    NA_df = NA_df.set_index('time', append=True)\n",
    "    NA_df = NA_df.rename(columns={'open':'close'})\n",
    "    NA_df.close = np.nan\n",
    "    \n",
    "    df = pd.concat([df.close.to_frame(), first_df, mid_df], axis=0)\n",
    "    df.sort_index(inplace=True)\n",
    "    \n",
    "    df.close = df.close.replace({0: np.nan}) # 原数据存在价格为0的情况，用线性插值替换掉 \n",
    "    df.close = df.close.interpolate(method='linear', limit_direction='both') # 线性插值会将日已实现波动率减小\n",
    "    \n",
    "    df = pd.concat([df, mid_df], axis=0)\n",
    "    df.sort_index(inplace=True)\n",
    "    df = np.log(df[['close']]).groupby(['code','trade_date']).diff()\n",
    "    df = df.rename(columns={'close':'log_ret'})\n",
    "    \n",
    "    # 每日收益率均值\n",
    "    mean_df = df.groupby(['code','trade_date']).sum()\n",
    "    mean_df = mean_df.rename(columns={'log_ret':'mean'})\n",
    "    # 每日收益率方差\n",
    "    RV_df = np.power(df, 2).groupby(['code','trade_date']).sum()\n",
    "    std_df = np.sqrt(RV_df) \n",
    "    std_df = std_df.rename(columns={'log_ret':'std'})\n",
    "    \n",
    "    mean_std_df = mean_df.join(std_df)\n",
    "    mean_std_df = mean_std_df.stack().to_frame() #列换行，方便groupby().apply()\n",
    "    mean_std_df = mean_std_df.reset_index(level=2).rename(columns={'level_2':'moment', 0:'value'}).set_index('moment', append=True)\n",
    "    \n",
    "    Pr_df = mean_std_df.groupby(['code', 'trade_date']).apply(lambda X: Pr_bin(X.iloc[0,0], X.iloc[1,0])) # 利用函数Pr_bin\n",
    "    Pr_df = Pr_df.to_frame().rename(columns={0:'Pr'})\n",
    "    Pr_df = Pr_df.explode('Pr')\n",
    "    bin = np.tile(np.arange(0,162), len(Pr_df.index.get_level_values(level=1).unique())) \n",
    "\n",
    "    Pr_df['bin'] = bin\n",
    "    Pr_df = Pr_df.set_index('bin', append=True)\n",
    "    Pr_df = Pr_df.unstack('bin')\n",
    "    Pr_df.columns = Pr_df.columns.droplevel(level=0) # unstack后的原列名成为列外层索引，删除\n",
    "    Pr_df.columns.name = None # unstack原索引列名成为列名总名称，删除\n",
    "    \n",
    "    return Pr_df, RV_df"
   ]
  },
  {
   "cell_type": "markdown",
   "id": "c7a9e10a-d6a9-47c5-972c-0b211d1597fb",
   "metadata": {},
   "source": [
    "## Calculate Ambiguity"
   ]
  },
  {
   "cell_type": "code",
   "execution_count": 4,
   "id": "0ec4a5f5-1afb-4957-8d69-cd4c67d49abe",
   "metadata": {},
   "outputs": [],
   "source": [
    "def get_AMB_df(Pr_df, window=22):\n",
    "    @nb.jit(nopython=True)\n",
    "    def AMB(X, N=window, w=0.001):\n",
    "        AMB_value = 0\n",
    "        for i in range(X.shape[1]):\n",
    "            X_mean = np.mean(X[:, i])\n",
    "            X_var = np.power(X[:, i]-X_mean, 2).sum()/(N-1) # 样本方差\n",
    "            AMB_value += X_mean * X_var\n",
    "        AMB_value *= 1/(w*(1-w))\n",
    "        return AMB_value\n",
    "    \n",
    "    AMB_df = Pr_df.groupby(['code']).rolling(window=window, method='table').apply(AMB, raw=True, engine='numba')\n",
    "    AMB_df = AMB_df.reset_index(level=1, drop=True)\n",
    "    AMB_df = AMB_df.drop(list(range(1,162)), axis=1)\n",
    "    AMB_df = AMB_df.rename(columns={0:'AMB'})\n",
    "    return AMB_df"
   ]
  },
  {
   "cell_type": "markdown",
   "id": "cd8c5aed-4c23-4eb6-bac5-c83705dd42fe",
   "metadata": {},
   "source": [
    "## Replace Prefix with Suffix"
   ]
  },
  {
   "cell_type": "code",
   "execution_count": 5,
   "id": "94476c7d-c722-4baf-ac84-48d2124ef9ef",
   "metadata": {},
   "outputs": [],
   "source": [
    "def append_SH_SZ_BJ(x): #增加股票代码对应的后缀，便于避免变成数值型数据\n",
    "    x = x[3:]\n",
    "    if len(x) < 6:\n",
    "        x = '0'*(6-len(x)) + x + '.SZ'\n",
    "    elif x[0]=='6' or x[0]=='9':\n",
    "        x += '.SH'\n",
    "    elif x[0]=='0' or x[0]=='3' or x[0]=='2':\n",
    "        x += '.SZ'\n",
    "    elif x[0]=='8' or x[0]=='4':\n",
    "        x += '.BJ'\n",
    "    else:\n",
    "        print('have a error {}'.format(x))\n",
    "    return x"
   ]
  },
  {
   "cell_type": "markdown",
   "id": "7cb348b3-026b-43d6-a631-865537bd5068",
   "metadata": {},
   "source": [
    "# Main"
   ]
  },
  {
   "cell_type": "code",
   "execution_count": null,
   "id": "18ebb748-4a14-4f12-9aaa-8b10a8560fac",
   "metadata": {},
   "outputs": [],
   "source": [
    "path = '5分钟A股前复权数据/前复权/'\n",
    "# path = '5分钟A股前复权数据/'\n",
    "\n",
    "filepaths = os.listdir(path)\n",
    "AMB_df_list = []\n",
    "RV_df_list = []\n",
    "filesnames = [f for f in filepaths if f.lower().endswith(\".csv\")]\n",
    "print(f'Number of File: {len(filesnames)}')\n",
    "i = 0\n",
    "for filename in notebook.tqdm(filesnames):\n",
    "    i += 1\n",
    "    if i >= 1: ##############临时增加\n",
    "        df = pd.read_csv(path + filename, low_memory=False)\n",
    "        if df.shape[0] < 22: # 有的数据量太少\n",
    "            continue\n",
    "        df = handle_data(df)\n",
    "        Pr_df, RV_df = get_Pr_bin(df)\n",
    "\n",
    "        AMB_df = get_AMB_df(Pr_df)\n",
    "        AMB_df = AMB_df.unstack(level=0)\n",
    "        AMB_df.columns = AMB_df.columns.droplevel(level=0)\n",
    "        AMB_df.columns.name = None\n",
    "        AMB_df_list.append(AMB_df)\n",
    "    \n",
    "        RV_df = RV_df.unstack(level=0)\n",
    "        RV_df.columns = RV_df.columns.droplevel(level=0)\n",
    "        RV_df.columns.name = None\n",
    "        RV_df_list.append(RV_df)\n",
    "\n",
    "# 整合数据\n",
    "total_AMB_df = pd.concat(AMB_df_list, axis=1)\n",
    "total_AMB_df = total_AMB_df.sort_index(ascending=True)\n",
    "total_RV_df = pd.concat(RV_df_list, axis=1)\n",
    "total_RV_df = total_RV_df.sort_index(ascending=True)\n",
    "\n",
    "# 列名前缀换为后缀\n",
    "code_dict = total_AMB_df.columns.to_frame().map(lambda x:append_SH_SZ_BJ(x)).to_dict()\n",
    "code_dict = code_dict[0]\n",
    "total_AMB_df = total_AMB_df.rename(columns=code_dict)\n",
    "total_RV_df = total_RV_df.rename(columns=code_dict)\n",
    "\n",
    "total_AMB_df.to_csv('AMB_22day.csv')\n",
    "total_RV_df.to_csv('RV_1day.csv')"
   ]
  },
  {
   "cell_type": "markdown",
   "id": "68a5bc91-72b3-4b04-b47e-6086d8785517",
   "metadata": {},
   "source": [
    "## 当数据中断可用一下代码整合数据"
   ]
  },
  {
   "cell_type": "code",
   "execution_count": 8,
   "id": "3bc8bc3c-be23-4741-bb93-331df1406050",
   "metadata": {},
   "outputs": [],
   "source": [
    "total_AMB_df_1 = pd.read_csv('AMB_22day_903.csv', parse_dates=['trade_date'], index_col=['trade_date'])\n",
    "total_RV_df_1 = pd.read_csv('RV_1day_903.csv', parse_dates=['trade_date'], index_col=['trade_date'])\n",
    "\n",
    "total_AMB_df_2 = pd.read_csv('AMB_22day_902_2681.csv', parse_dates=['trade_date'], index_col=['trade_date'])\n",
    "total_RV_df_2 = pd.read_csv('RV_1day_902_2681.csv', parse_dates=['trade_date'], index_col=['trade_date'])\n",
    "\n",
    "total_AMB_df_3 = pd.read_csv('AMB_22day_2680_5327.csv', parse_dates=['trade_date'], index_col=['trade_date'])\n",
    "total_RV_df_3 = pd.read_csv('RV_1day_2680_5327.csv', parse_dates=['trade_date'], index_col=['trade_date'])"
   ]
  },
  {
   "cell_type": "code",
   "execution_count": 42,
   "id": "9748eed7-4835-44c8-b964-af0ed4726afe",
   "metadata": {},
   "outputs": [],
   "source": [
    "dfdf = pd.concat([total_AMB_df_1, total_AMB_df_2, total_AMB_df_3], axis=1)\n",
    "dup = dfdf.columns.duplicated()\n",
    "dfdf = dfdf.loc[:, ~dup]"
   ]
  },
  {
   "cell_type": "code",
   "execution_count": 43,
   "id": "50c1f98d-155d-451f-9ee3-f34244b4997e",
   "metadata": {},
   "outputs": [],
   "source": [
    "dfdf2 = pd.concat([total_RV_df_1, total_RV_df_2, total_RV_df_3], axis=1)\n",
    "dup2 = dfdf2.columns.duplicated()\n",
    "dfdf2 = dfdf2.loc[:, ~dup2]"
   ]
  },
  {
   "cell_type": "code",
   "execution_count": 44,
   "id": "56f8b609-092f-4a70-a372-e78a6ef1ab00",
   "metadata": {},
   "outputs": [],
   "source": [
    "dfdf.to_csv('AMB_22day.csv')\n",
    "dfdf2.to_csv('RV_1day.csv')"
   ]
  },
  {
   "cell_type": "code",
   "execution_count": 7,
   "id": "fa856942-2f32-4319-8c92-ef4bfa3f883c",
   "metadata": {},
   "outputs": [
    {
     "data": {
      "text/plain": [
       "<Axes: xlabel='trade_date'>"
      ]
     },
     "execution_count": 7,
     "metadata": {},
     "output_type": "execute_result"
    },
    {
     "data": {
      "image/png": "[encoded data removed]",
      "text/plain": [
       "<Figure size 640x480 with 1 Axes>"
      ]
     },
     "metadata": {},
     "output_type": "display_data"
    }
   ],
   "source": [
    "AMB_df.plot()"
   ]
  },
  {
   "cell_type": "code",
   "execution_count": null,
   "id": "dec8146c-43ba-4d21-80aa-cb5654e2ed34",
   "metadata": {},
   "outputs": [],
   "source": []
  }
 ],
 "metadata": {
  "kernelspec": {
   "display_name": "Python 3 (ipykernel)",
   "language": "python",
   "name": "python3"
  },
  "language_info": {
   "codemirror_mode": {
    "name": "ipython",
    "version": 3
   },
   "file_extension": ".py",
   "mimetype": "text/x-python",
   "name": "python",
   "nbconvert_exporter": "python",
   "pygments_lexer": "ipython3",
   "version": "3.11.5"
  },
  "widgets": {
   "application/vnd.jupyter.widget-state+json": {
    "state": {},
    "version_major": 2,
    "version_minor": 0
   }
  }
 },
 "nbformat": 4,
 "nbformat_minor": 5
}
